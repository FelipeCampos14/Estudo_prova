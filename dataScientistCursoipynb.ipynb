{
  "nbformat": 4,
  "nbformat_minor": 0,
  "metadata": {
    "colab": {
      "provenance": []
    },
    "kernelspec": {
      "name": "python3",
      "display_name": "Python 3"
    },
    "language_info": {
      "name": "python"
    }
  },
  "cells": [
    {
      "cell_type": "markdown",
      "source": [
        "# Setando a base"
      ],
      "metadata": {
        "id": "92yLncn5ZmcW"
      }
    },
    {
      "cell_type": "code",
      "source": [
        "from google.colab import drive\n",
        "import pandas as pd\n",
        "import numpy as np\n",
        "from pydrive.auth import GoogleAuth\n",
        "from pydrive.drive import GoogleDrive\n",
        "from google.colab import auth\n",
        "from oauth2client.client import GoogleCredentials\n",
        "from google_drive_downloader import GoogleDriveDownloader as gdd\n",
        "\n",
        "# Autenticando para entrar no drive\n",
        "auth.authenticate_user()\n",
        "gauth = GoogleAuth()\n",
        "gauth.credentials = GoogleCredentials.get_application_default()\n",
        "drive = GoogleDrive(gauth)"
      ],
      "metadata": {
        "id": "Zu0y6K2hZo1x",
        "colab": {
          "base_uri": "https://localhost:8080/",
          "height": 380
        },
        "outputId": "2e669e0c-50d3-4903-995a-8bf38539c865"
      },
      "execution_count": null,
      "outputs": [
        {
          "output_type": "error",
          "ename": "MessageError",
          "evalue": "ignored",
          "traceback": [
            "\u001b[0;31m---------------------------------------------------------------------------\u001b[0m",
            "\u001b[0;31mMessageError\u001b[0m                              Traceback (most recent call last)",
            "\u001b[0;32m<ipython-input-1-0cf08fe01fa6>\u001b[0m in \u001b[0;36m<cell line: 11>\u001b[0;34m()\u001b[0m\n\u001b[1;32m      9\u001b[0m \u001b[0;34m\u001b[0m\u001b[0m\n\u001b[1;32m     10\u001b[0m \u001b[0;31m# Autenticando para entrar no drive\u001b[0m\u001b[0;34m\u001b[0m\u001b[0;34m\u001b[0m\u001b[0m\n\u001b[0;32m---> 11\u001b[0;31m \u001b[0mauth\u001b[0m\u001b[0;34m.\u001b[0m\u001b[0mauthenticate_user\u001b[0m\u001b[0;34m(\u001b[0m\u001b[0;34m)\u001b[0m\u001b[0;34m\u001b[0m\u001b[0;34m\u001b[0m\u001b[0m\n\u001b[0m\u001b[1;32m     12\u001b[0m \u001b[0mgauth\u001b[0m \u001b[0;34m=\u001b[0m \u001b[0mGoogleAuth\u001b[0m\u001b[0;34m(\u001b[0m\u001b[0;34m)\u001b[0m\u001b[0;34m\u001b[0m\u001b[0;34m\u001b[0m\u001b[0m\n\u001b[1;32m     13\u001b[0m \u001b[0mgauth\u001b[0m\u001b[0;34m.\u001b[0m\u001b[0mcredentials\u001b[0m \u001b[0;34m=\u001b[0m \u001b[0mGoogleCredentials\u001b[0m\u001b[0;34m.\u001b[0m\u001b[0mget_application_default\u001b[0m\u001b[0;34m(\u001b[0m\u001b[0;34m)\u001b[0m\u001b[0;34m\u001b[0m\u001b[0;34m\u001b[0m\u001b[0m\n",
            "\u001b[0;32m/usr/local/lib/python3.10/dist-packages/google/colab/auth.py\u001b[0m in \u001b[0;36mauthenticate_user\u001b[0;34m(clear_output)\u001b[0m\n\u001b[1;32m    242\u001b[0m   \u001b[0;32mif\u001b[0m \u001b[0;32mnot\u001b[0m \u001b[0m_check_adc\u001b[0m\u001b[0;34m(\u001b[0m\u001b[0m_CredentialType\u001b[0m\u001b[0;34m.\u001b[0m\u001b[0mUSER\u001b[0m\u001b[0;34m)\u001b[0m\u001b[0;34m:\u001b[0m\u001b[0;34m\u001b[0m\u001b[0;34m\u001b[0m\u001b[0m\n\u001b[1;32m    243\u001b[0m     \u001b[0;32mif\u001b[0m \u001b[0muse_auth_ephem\u001b[0m\u001b[0;34m:\u001b[0m\u001b[0;34m\u001b[0m\u001b[0;34m\u001b[0m\u001b[0m\n\u001b[0;32m--> 244\u001b[0;31m       _message.blocking_request(\n\u001b[0m\u001b[1;32m    245\u001b[0m           \u001b[0;34m'request_auth'\u001b[0m\u001b[0;34m,\u001b[0m\u001b[0;34m\u001b[0m\u001b[0;34m\u001b[0m\u001b[0m\n\u001b[1;32m    246\u001b[0m           \u001b[0mrequest\u001b[0m\u001b[0;34m=\u001b[0m\u001b[0;34m{\u001b[0m\u001b[0;34m'authType'\u001b[0m\u001b[0;34m:\u001b[0m \u001b[0;34m'auth_user_ephemeral'\u001b[0m\u001b[0;34m}\u001b[0m\u001b[0;34m,\u001b[0m\u001b[0;34m\u001b[0m\u001b[0;34m\u001b[0m\u001b[0m\n",
            "\u001b[0;32m/usr/local/lib/python3.10/dist-packages/google/colab/_message.py\u001b[0m in \u001b[0;36mblocking_request\u001b[0;34m(request_type, request, timeout_sec, parent)\u001b[0m\n\u001b[1;32m    174\u001b[0m       \u001b[0mrequest_type\u001b[0m\u001b[0;34m,\u001b[0m \u001b[0mrequest\u001b[0m\u001b[0;34m,\u001b[0m \u001b[0mparent\u001b[0m\u001b[0;34m=\u001b[0m\u001b[0mparent\u001b[0m\u001b[0;34m,\u001b[0m \u001b[0mexpect_reply\u001b[0m\u001b[0;34m=\u001b[0m\u001b[0;32mTrue\u001b[0m\u001b[0;34m\u001b[0m\u001b[0;34m\u001b[0m\u001b[0m\n\u001b[1;32m    175\u001b[0m   )\n\u001b[0;32m--> 176\u001b[0;31m   \u001b[0;32mreturn\u001b[0m \u001b[0mread_reply_from_input\u001b[0m\u001b[0;34m(\u001b[0m\u001b[0mrequest_id\u001b[0m\u001b[0;34m,\u001b[0m \u001b[0mtimeout_sec\u001b[0m\u001b[0;34m)\u001b[0m\u001b[0;34m\u001b[0m\u001b[0;34m\u001b[0m\u001b[0m\n\u001b[0m",
            "\u001b[0;32m/usr/local/lib/python3.10/dist-packages/google/colab/_message.py\u001b[0m in \u001b[0;36mread_reply_from_input\u001b[0;34m(message_id, timeout_sec)\u001b[0m\n\u001b[1;32m    101\u001b[0m     ):\n\u001b[1;32m    102\u001b[0m       \u001b[0;32mif\u001b[0m \u001b[0;34m'error'\u001b[0m \u001b[0;32min\u001b[0m \u001b[0mreply\u001b[0m\u001b[0;34m:\u001b[0m\u001b[0;34m\u001b[0m\u001b[0;34m\u001b[0m\u001b[0m\n\u001b[0;32m--> 103\u001b[0;31m         \u001b[0;32mraise\u001b[0m \u001b[0mMessageError\u001b[0m\u001b[0;34m(\u001b[0m\u001b[0mreply\u001b[0m\u001b[0;34m[\u001b[0m\u001b[0;34m'error'\u001b[0m\u001b[0;34m]\u001b[0m\u001b[0;34m)\u001b[0m\u001b[0;34m\u001b[0m\u001b[0;34m\u001b[0m\u001b[0m\n\u001b[0m\u001b[1;32m    104\u001b[0m       \u001b[0;32mreturn\u001b[0m \u001b[0mreply\u001b[0m\u001b[0;34m.\u001b[0m\u001b[0mget\u001b[0m\u001b[0;34m(\u001b[0m\u001b[0;34m'data'\u001b[0m\u001b[0;34m,\u001b[0m \u001b[0;32mNone\u001b[0m\u001b[0;34m)\u001b[0m\u001b[0;34m\u001b[0m\u001b[0;34m\u001b[0m\u001b[0m\n\u001b[1;32m    105\u001b[0m \u001b[0;34m\u001b[0m\u001b[0m\n",
            "\u001b[0;31mMessageError\u001b[0m: Error: credential propagation was unsuccessful"
          ]
        }
      ]
    },
    {
      "cell_type": "code",
      "source": [
        "# Baixando o arquivo de metadados\n",
        "downloaded = drive.CreateFile({'id': '1EaVuNIZ--MxAK0eJX-cm34YHSUmnu5f6'})\n",
        "downloaded.GetContentFile('Credit.csv')\n",
        "print(downloaded['title'], downloaded['mimeType'])\n",
        "\n",
        "# Lendo os dados do arquivo\n",
        "df = pd.read_csv('Credit.csv')\n",
        "df"
      ],
      "metadata": {
        "colab": {
          "base_uri": "https://localhost:8080/",
          "height": 644
        },
        "id": "423wHYdEpAf5",
        "outputId": "77782c8e-d0fa-42fd-e88c-1fb9b51abcaf"
      },
      "execution_count": null,
      "outputs": [
        {
          "output_type": "stream",
          "name": "stdout",
          "text": [
            "Credit.csv text/csv\n"
          ]
        },
        {
          "output_type": "execute_result",
          "data": {
            "text/plain": [
              "    checking_status  duration                    credit_history  \\\n",
              "0                <0         6  'critical/other existing credit'   \n",
              "1          0<=X<200        48                   'existing paid'   \n",
              "2     'no checking'        12  'critical/other existing credit'   \n",
              "3                <0        42                   'existing paid'   \n",
              "4                <0        24              'delayed previously'   \n",
              "..              ...       ...                               ...   \n",
              "995   'no checking'        12                   'existing paid'   \n",
              "996              <0        30                   'existing paid'   \n",
              "997   'no checking'        12                   'existing paid'   \n",
              "998              <0        45                   'existing paid'   \n",
              "999        0<=X<200        45  'critical/other existing credit'   \n",
              "\n",
              "                 purpose  credit_amount      savings_status  employment  \\\n",
              "0               radio/tv           1169  'no known savings'         >=7   \n",
              "1               radio/tv           5951                <100      1<=X<4   \n",
              "2              education           2096                <100      4<=X<7   \n",
              "3    furniture/equipment           7882                <100      4<=X<7   \n",
              "4              'new car'           4870                <100      1<=X<4   \n",
              "..                   ...            ...                 ...         ...   \n",
              "995  furniture/equipment           1736                <100      4<=X<7   \n",
              "996           'used car'           3857                <100      1<=X<4   \n",
              "997             radio/tv            804                <100         >=7   \n",
              "998             radio/tv           1845                <100      1<=X<4   \n",
              "999           'used car'           4576          100<=X<500  unemployed   \n",
              "\n",
              "     installment_commitment       personal_status other_parties  ...  \\\n",
              "0                         4         'male single'          none  ...   \n",
              "1                         2  'female div/dep/mar'          none  ...   \n",
              "2                         2         'male single'          none  ...   \n",
              "3                         2         'male single'     guarantor  ...   \n",
              "4                         3         'male single'          none  ...   \n",
              "..                      ...                   ...           ...  ...   \n",
              "995                       3  'female div/dep/mar'          none  ...   \n",
              "996                       4        'male div/sep'          none  ...   \n",
              "997                       4         'male single'          none  ...   \n",
              "998                       4         'male single'          none  ...   \n",
              "999                       3         'male single'          none  ...   \n",
              "\n",
              "      property_magnitude age  other_payment_plans     housing  \\\n",
              "0          'real estate'  67                 none         own   \n",
              "1          'real estate'  22                 none         own   \n",
              "2          'real estate'  49                 none         own   \n",
              "3       'life insurance'  45                 none  'for free'   \n",
              "4    'no known property'  53                 none  'for free'   \n",
              "..                   ...  ..                  ...         ...   \n",
              "995        'real estate'  31                 none         own   \n",
              "996     'life insurance'  40                 none         own   \n",
              "997                  car  38                 none         own   \n",
              "998  'no known property'  23                 none  'for free'   \n",
              "999                  car  27                 none         own   \n",
              "\n",
              "    existing_credits                          job num_dependents  \\\n",
              "0                  2                      skilled              1   \n",
              "1                  1                      skilled              1   \n",
              "2                  1         'unskilled resident'              2   \n",
              "3                  1                      skilled              2   \n",
              "4                  2                      skilled              2   \n",
              "..               ...                          ...            ...   \n",
              "995                1         'unskilled resident'              1   \n",
              "996                1  'high qualif/self emp/mgmt'              1   \n",
              "997                1                      skilled              1   \n",
              "998                1                      skilled              1   \n",
              "999                1                      skilled              1   \n",
              "\n",
              "     own_telephone foreign_worker class  \n",
              "0              yes            yes  good  \n",
              "1             none            yes   bad  \n",
              "2             none            yes  good  \n",
              "3             none            yes  good  \n",
              "4             none            yes   bad  \n",
              "..             ...            ...   ...  \n",
              "995           none            yes  good  \n",
              "996            yes            yes  good  \n",
              "997           none            yes  good  \n",
              "998            yes            yes   bad  \n",
              "999           none            yes  good  \n",
              "\n",
              "[1000 rows x 21 columns]"
            ],
            "text/html": [
              "\n",
              "  <div id=\"df-037f75a4-70d9-43ce-8ec8-6edfbee8a333\">\n",
              "    <div class=\"colab-df-container\">\n",
              "      <div>\n",
              "<style scoped>\n",
              "    .dataframe tbody tr th:only-of-type {\n",
              "        vertical-align: middle;\n",
              "    }\n",
              "\n",
              "    .dataframe tbody tr th {\n",
              "        vertical-align: top;\n",
              "    }\n",
              "\n",
              "    .dataframe thead th {\n",
              "        text-align: right;\n",
              "    }\n",
              "</style>\n",
              "<table border=\"1\" class=\"dataframe\">\n",
              "  <thead>\n",
              "    <tr style=\"text-align: right;\">\n",
              "      <th></th>\n",
              "      <th>checking_status</th>\n",
              "      <th>duration</th>\n",
              "      <th>credit_history</th>\n",
              "      <th>purpose</th>\n",
              "      <th>credit_amount</th>\n",
              "      <th>savings_status</th>\n",
              "      <th>employment</th>\n",
              "      <th>installment_commitment</th>\n",
              "      <th>personal_status</th>\n",
              "      <th>other_parties</th>\n",
              "      <th>...</th>\n",
              "      <th>property_magnitude</th>\n",
              "      <th>age</th>\n",
              "      <th>other_payment_plans</th>\n",
              "      <th>housing</th>\n",
              "      <th>existing_credits</th>\n",
              "      <th>job</th>\n",
              "      <th>num_dependents</th>\n",
              "      <th>own_telephone</th>\n",
              "      <th>foreign_worker</th>\n",
              "      <th>class</th>\n",
              "    </tr>\n",
              "  </thead>\n",
              "  <tbody>\n",
              "    <tr>\n",
              "      <th>0</th>\n",
              "      <td>&lt;0</td>\n",
              "      <td>6</td>\n",
              "      <td>'critical/other existing credit'</td>\n",
              "      <td>radio/tv</td>\n",
              "      <td>1169</td>\n",
              "      <td>'no known savings'</td>\n",
              "      <td>&gt;=7</td>\n",
              "      <td>4</td>\n",
              "      <td>'male single'</td>\n",
              "      <td>none</td>\n",
              "      <td>...</td>\n",
              "      <td>'real estate'</td>\n",
              "      <td>67</td>\n",
              "      <td>none</td>\n",
              "      <td>own</td>\n",
              "      <td>2</td>\n",
              "      <td>skilled</td>\n",
              "      <td>1</td>\n",
              "      <td>yes</td>\n",
              "      <td>yes</td>\n",
              "      <td>good</td>\n",
              "    </tr>\n",
              "    <tr>\n",
              "      <th>1</th>\n",
              "      <td>0&lt;=X&lt;200</td>\n",
              "      <td>48</td>\n",
              "      <td>'existing paid'</td>\n",
              "      <td>radio/tv</td>\n",
              "      <td>5951</td>\n",
              "      <td>&lt;100</td>\n",
              "      <td>1&lt;=X&lt;4</td>\n",
              "      <td>2</td>\n",
              "      <td>'female div/dep/mar'</td>\n",
              "      <td>none</td>\n",
              "      <td>...</td>\n",
              "      <td>'real estate'</td>\n",
              "      <td>22</td>\n",
              "      <td>none</td>\n",
              "      <td>own</td>\n",
              "      <td>1</td>\n",
              "      <td>skilled</td>\n",
              "      <td>1</td>\n",
              "      <td>none</td>\n",
              "      <td>yes</td>\n",
              "      <td>bad</td>\n",
              "    </tr>\n",
              "    <tr>\n",
              "      <th>2</th>\n",
              "      <td>'no checking'</td>\n",
              "      <td>12</td>\n",
              "      <td>'critical/other existing credit'</td>\n",
              "      <td>education</td>\n",
              "      <td>2096</td>\n",
              "      <td>&lt;100</td>\n",
              "      <td>4&lt;=X&lt;7</td>\n",
              "      <td>2</td>\n",
              "      <td>'male single'</td>\n",
              "      <td>none</td>\n",
              "      <td>...</td>\n",
              "      <td>'real estate'</td>\n",
              "      <td>49</td>\n",
              "      <td>none</td>\n",
              "      <td>own</td>\n",
              "      <td>1</td>\n",
              "      <td>'unskilled resident'</td>\n",
              "      <td>2</td>\n",
              "      <td>none</td>\n",
              "      <td>yes</td>\n",
              "      <td>good</td>\n",
              "    </tr>\n",
              "    <tr>\n",
              "      <th>3</th>\n",
              "      <td>&lt;0</td>\n",
              "      <td>42</td>\n",
              "      <td>'existing paid'</td>\n",
              "      <td>furniture/equipment</td>\n",
              "      <td>7882</td>\n",
              "      <td>&lt;100</td>\n",
              "      <td>4&lt;=X&lt;7</td>\n",
              "      <td>2</td>\n",
              "      <td>'male single'</td>\n",
              "      <td>guarantor</td>\n",
              "      <td>...</td>\n",
              "      <td>'life insurance'</td>\n",
              "      <td>45</td>\n",
              "      <td>none</td>\n",
              "      <td>'for free'</td>\n",
              "      <td>1</td>\n",
              "      <td>skilled</td>\n",
              "      <td>2</td>\n",
              "      <td>none</td>\n",
              "      <td>yes</td>\n",
              "      <td>good</td>\n",
              "    </tr>\n",
              "    <tr>\n",
              "      <th>4</th>\n",
              "      <td>&lt;0</td>\n",
              "      <td>24</td>\n",
              "      <td>'delayed previously'</td>\n",
              "      <td>'new car'</td>\n",
              "      <td>4870</td>\n",
              "      <td>&lt;100</td>\n",
              "      <td>1&lt;=X&lt;4</td>\n",
              "      <td>3</td>\n",
              "      <td>'male single'</td>\n",
              "      <td>none</td>\n",
              "      <td>...</td>\n",
              "      <td>'no known property'</td>\n",
              "      <td>53</td>\n",
              "      <td>none</td>\n",
              "      <td>'for free'</td>\n",
              "      <td>2</td>\n",
              "      <td>skilled</td>\n",
              "      <td>2</td>\n",
              "      <td>none</td>\n",
              "      <td>yes</td>\n",
              "      <td>bad</td>\n",
              "    </tr>\n",
              "    <tr>\n",
              "      <th>...</th>\n",
              "      <td>...</td>\n",
              "      <td>...</td>\n",
              "      <td>...</td>\n",
              "      <td>...</td>\n",
              "      <td>...</td>\n",
              "      <td>...</td>\n",
              "      <td>...</td>\n",
              "      <td>...</td>\n",
              "      <td>...</td>\n",
              "      <td>...</td>\n",
              "      <td>...</td>\n",
              "      <td>...</td>\n",
              "      <td>...</td>\n",
              "      <td>...</td>\n",
              "      <td>...</td>\n",
              "      <td>...</td>\n",
              "      <td>...</td>\n",
              "      <td>...</td>\n",
              "      <td>...</td>\n",
              "      <td>...</td>\n",
              "      <td>...</td>\n",
              "    </tr>\n",
              "    <tr>\n",
              "      <th>995</th>\n",
              "      <td>'no checking'</td>\n",
              "      <td>12</td>\n",
              "      <td>'existing paid'</td>\n",
              "      <td>furniture/equipment</td>\n",
              "      <td>1736</td>\n",
              "      <td>&lt;100</td>\n",
              "      <td>4&lt;=X&lt;7</td>\n",
              "      <td>3</td>\n",
              "      <td>'female div/dep/mar'</td>\n",
              "      <td>none</td>\n",
              "      <td>...</td>\n",
              "      <td>'real estate'</td>\n",
              "      <td>31</td>\n",
              "      <td>none</td>\n",
              "      <td>own</td>\n",
              "      <td>1</td>\n",
              "      <td>'unskilled resident'</td>\n",
              "      <td>1</td>\n",
              "      <td>none</td>\n",
              "      <td>yes</td>\n",
              "      <td>good</td>\n",
              "    </tr>\n",
              "    <tr>\n",
              "      <th>996</th>\n",
              "      <td>&lt;0</td>\n",
              "      <td>30</td>\n",
              "      <td>'existing paid'</td>\n",
              "      <td>'used car'</td>\n",
              "      <td>3857</td>\n",
              "      <td>&lt;100</td>\n",
              "      <td>1&lt;=X&lt;4</td>\n",
              "      <td>4</td>\n",
              "      <td>'male div/sep'</td>\n",
              "      <td>none</td>\n",
              "      <td>...</td>\n",
              "      <td>'life insurance'</td>\n",
              "      <td>40</td>\n",
              "      <td>none</td>\n",
              "      <td>own</td>\n",
              "      <td>1</td>\n",
              "      <td>'high qualif/self emp/mgmt'</td>\n",
              "      <td>1</td>\n",
              "      <td>yes</td>\n",
              "      <td>yes</td>\n",
              "      <td>good</td>\n",
              "    </tr>\n",
              "    <tr>\n",
              "      <th>997</th>\n",
              "      <td>'no checking'</td>\n",
              "      <td>12</td>\n",
              "      <td>'existing paid'</td>\n",
              "      <td>radio/tv</td>\n",
              "      <td>804</td>\n",
              "      <td>&lt;100</td>\n",
              "      <td>&gt;=7</td>\n",
              "      <td>4</td>\n",
              "      <td>'male single'</td>\n",
              "      <td>none</td>\n",
              "      <td>...</td>\n",
              "      <td>car</td>\n",
              "      <td>38</td>\n",
              "      <td>none</td>\n",
              "      <td>own</td>\n",
              "      <td>1</td>\n",
              "      <td>skilled</td>\n",
              "      <td>1</td>\n",
              "      <td>none</td>\n",
              "      <td>yes</td>\n",
              "      <td>good</td>\n",
              "    </tr>\n",
              "    <tr>\n",
              "      <th>998</th>\n",
              "      <td>&lt;0</td>\n",
              "      <td>45</td>\n",
              "      <td>'existing paid'</td>\n",
              "      <td>radio/tv</td>\n",
              "      <td>1845</td>\n",
              "      <td>&lt;100</td>\n",
              "      <td>1&lt;=X&lt;4</td>\n",
              "      <td>4</td>\n",
              "      <td>'male single'</td>\n",
              "      <td>none</td>\n",
              "      <td>...</td>\n",
              "      <td>'no known property'</td>\n",
              "      <td>23</td>\n",
              "      <td>none</td>\n",
              "      <td>'for free'</td>\n",
              "      <td>1</td>\n",
              "      <td>skilled</td>\n",
              "      <td>1</td>\n",
              "      <td>yes</td>\n",
              "      <td>yes</td>\n",
              "      <td>bad</td>\n",
              "    </tr>\n",
              "    <tr>\n",
              "      <th>999</th>\n",
              "      <td>0&lt;=X&lt;200</td>\n",
              "      <td>45</td>\n",
              "      <td>'critical/other existing credit'</td>\n",
              "      <td>'used car'</td>\n",
              "      <td>4576</td>\n",
              "      <td>100&lt;=X&lt;500</td>\n",
              "      <td>unemployed</td>\n",
              "      <td>3</td>\n",
              "      <td>'male single'</td>\n",
              "      <td>none</td>\n",
              "      <td>...</td>\n",
              "      <td>car</td>\n",
              "      <td>27</td>\n",
              "      <td>none</td>\n",
              "      <td>own</td>\n",
              "      <td>1</td>\n",
              "      <td>skilled</td>\n",
              "      <td>1</td>\n",
              "      <td>none</td>\n",
              "      <td>yes</td>\n",
              "      <td>good</td>\n",
              "    </tr>\n",
              "  </tbody>\n",
              "</table>\n",
              "<p>1000 rows × 21 columns</p>\n",
              "</div>\n",
              "      <button class=\"colab-df-convert\" onclick=\"convertToInteractive('df-037f75a4-70d9-43ce-8ec8-6edfbee8a333')\"\n",
              "              title=\"Convert this dataframe to an interactive table.\"\n",
              "              style=\"display:none;\">\n",
              "        \n",
              "  <svg xmlns=\"http://www.w3.org/2000/svg\" height=\"24px\"viewBox=\"0 0 24 24\"\n",
              "       width=\"24px\">\n",
              "    <path d=\"M0 0h24v24H0V0z\" fill=\"none\"/>\n",
              "    <path d=\"M18.56 5.44l.94 2.06.94-2.06 2.06-.94-2.06-.94-.94-2.06-.94 2.06-2.06.94zm-11 1L8.5 8.5l.94-2.06 2.06-.94-2.06-.94L8.5 2.5l-.94 2.06-2.06.94zm10 10l.94 2.06.94-2.06 2.06-.94-2.06-.94-.94-2.06-.94 2.06-2.06.94z\"/><path d=\"M17.41 7.96l-1.37-1.37c-.4-.4-.92-.59-1.43-.59-.52 0-1.04.2-1.43.59L10.3 9.45l-7.72 7.72c-.78.78-.78 2.05 0 2.83L4 21.41c.39.39.9.59 1.41.59.51 0 1.02-.2 1.41-.59l7.78-7.78 2.81-2.81c.8-.78.8-2.07 0-2.86zM5.41 20L4 18.59l7.72-7.72 1.47 1.35L5.41 20z\"/>\n",
              "  </svg>\n",
              "      </button>\n",
              "      \n",
              "  <style>\n",
              "    .colab-df-container {\n",
              "      display:flex;\n",
              "      flex-wrap:wrap;\n",
              "      gap: 12px;\n",
              "    }\n",
              "\n",
              "    .colab-df-convert {\n",
              "      background-color: #E8F0FE;\n",
              "      border: none;\n",
              "      border-radius: 50%;\n",
              "      cursor: pointer;\n",
              "      display: none;\n",
              "      fill: #1967D2;\n",
              "      height: 32px;\n",
              "      padding: 0 0 0 0;\n",
              "      width: 32px;\n",
              "    }\n",
              "\n",
              "    .colab-df-convert:hover {\n",
              "      background-color: #E2EBFA;\n",
              "      box-shadow: 0px 1px 2px rgba(60, 64, 67, 0.3), 0px 1px 3px 1px rgba(60, 64, 67, 0.15);\n",
              "      fill: #174EA6;\n",
              "    }\n",
              "\n",
              "    [theme=dark] .colab-df-convert {\n",
              "      background-color: #3B4455;\n",
              "      fill: #D2E3FC;\n",
              "    }\n",
              "\n",
              "    [theme=dark] .colab-df-convert:hover {\n",
              "      background-color: #434B5C;\n",
              "      box-shadow: 0px 1px 3px 1px rgba(0, 0, 0, 0.15);\n",
              "      filter: drop-shadow(0px 1px 2px rgba(0, 0, 0, 0.3));\n",
              "      fill: #FFFFFF;\n",
              "    }\n",
              "  </style>\n",
              "\n",
              "      <script>\n",
              "        const buttonEl =\n",
              "          document.querySelector('#df-037f75a4-70d9-43ce-8ec8-6edfbee8a333 button.colab-df-convert');\n",
              "        buttonEl.style.display =\n",
              "          google.colab.kernel.accessAllowed ? 'block' : 'none';\n",
              "\n",
              "        async function convertToInteractive(key) {\n",
              "          const element = document.querySelector('#df-037f75a4-70d9-43ce-8ec8-6edfbee8a333');\n",
              "          const dataTable =\n",
              "            await google.colab.kernel.invokeFunction('convertToInteractive',\n",
              "                                                     [key], {});\n",
              "          if (!dataTable) return;\n",
              "\n",
              "          const docLinkHtml = 'Like what you see? Visit the ' +\n",
              "            '<a target=\"_blank\" href=https://colab.research.google.com/notebooks/data_table.ipynb>data table notebook</a>'\n",
              "            + ' to learn more about interactive tables.';\n",
              "          element.innerHTML = '';\n",
              "          dataTable['output_type'] = 'display_data';\n",
              "          await google.colab.output.renderOutput(dataTable, element);\n",
              "          const docLink = document.createElement('div');\n",
              "          docLink.innerHTML = docLinkHtml;\n",
              "          element.appendChild(docLink);\n",
              "        }\n",
              "      </script>\n",
              "    </div>\n",
              "  </div>\n",
              "  "
            ]
          },
          "metadata": {},
          "execution_count": 11
        }
      ]
    },
    {
      "cell_type": "markdown",
      "source": [
        "# Introdução python - prática"
      ],
      "metadata": {
        "id": "ftsoFEhIZZ2E"
      }
    },
    {
      "cell_type": "code",
      "source": [
        "lista = [1,2,3,4,5,6,7,8,9]\n",
        "print(max(lista) - min(lista))"
      ],
      "metadata": {
        "colab": {
          "base_uri": "https://localhost:8080/"
        },
        "id": "MMyq0aF4w5DO",
        "outputId": "60044a65-39d4-4f60-c320-db53baa74563"
      },
      "execution_count": null,
      "outputs": [
        {
          "output_type": "stream",
          "name": "stdout",
          "text": [
            "8\n"
          ]
        }
      ]
    },
    {
      "cell_type": "code",
      "source": [
        "x = input(\"escreva algo: \")\n",
        "for i in range(0,len(x)):\n",
        "  print(x[i])"
      ],
      "metadata": {
        "colab": {
          "base_uri": "https://localhost:8080/",
          "height": 363
        },
        "id": "buVewqdOE0pi",
        "outputId": "88f0913d-44fd-4a53-b61e-0bbc906b3758"
      },
      "execution_count": null,
      "outputs": [
        {
          "output_type": "error",
          "ename": "KeyboardInterrupt",
          "evalue": "ignored",
          "traceback": [
            "\u001b[0;31m---------------------------------------------------------------------------\u001b[0m",
            "\u001b[0;31mKeyboardInterrupt\u001b[0m                         Traceback (most recent call last)",
            "\u001b[0;32m<ipython-input-4-1c2ed1641579>\u001b[0m in \u001b[0;36m<cell line: 1>\u001b[0;34m()\u001b[0m\n\u001b[0;32m----> 1\u001b[0;31m \u001b[0mx\u001b[0m \u001b[0;34m=\u001b[0m \u001b[0minput\u001b[0m\u001b[0;34m(\u001b[0m\u001b[0;34m\"escreva algo: \"\u001b[0m\u001b[0;34m)\u001b[0m\u001b[0;34m\u001b[0m\u001b[0;34m\u001b[0m\u001b[0m\n\u001b[0m\u001b[1;32m      2\u001b[0m \u001b[0;32mfor\u001b[0m \u001b[0mi\u001b[0m \u001b[0;32min\u001b[0m \u001b[0mrange\u001b[0m\u001b[0;34m(\u001b[0m\u001b[0;36m0\u001b[0m\u001b[0;34m,\u001b[0m\u001b[0mlen\u001b[0m\u001b[0;34m(\u001b[0m\u001b[0mx\u001b[0m\u001b[0;34m)\u001b[0m\u001b[0;34m)\u001b[0m\u001b[0;34m:\u001b[0m\u001b[0;34m\u001b[0m\u001b[0;34m\u001b[0m\u001b[0m\n\u001b[1;32m      3\u001b[0m   \u001b[0mprint\u001b[0m\u001b[0;34m(\u001b[0m\u001b[0mx\u001b[0m\u001b[0;34m[\u001b[0m\u001b[0mi\u001b[0m\u001b[0;34m]\u001b[0m\u001b[0;34m)\u001b[0m\u001b[0;34m\u001b[0m\u001b[0;34m\u001b[0m\u001b[0m\n",
            "\u001b[0;32m/usr/local/lib/python3.10/dist-packages/ipykernel/kernelbase.py\u001b[0m in \u001b[0;36mraw_input\u001b[0;34m(self, prompt)\u001b[0m\n\u001b[1;32m    849\u001b[0m                 \u001b[0;34m\"raw_input was called, but this frontend does not support input requests.\"\u001b[0m\u001b[0;34m\u001b[0m\u001b[0;34m\u001b[0m\u001b[0m\n\u001b[1;32m    850\u001b[0m             )\n\u001b[0;32m--> 851\u001b[0;31m         return self._input_request(str(prompt),\n\u001b[0m\u001b[1;32m    852\u001b[0m             \u001b[0mself\u001b[0m\u001b[0;34m.\u001b[0m\u001b[0m_parent_ident\u001b[0m\u001b[0;34m,\u001b[0m\u001b[0;34m\u001b[0m\u001b[0;34m\u001b[0m\u001b[0m\n\u001b[1;32m    853\u001b[0m             \u001b[0mself\u001b[0m\u001b[0;34m.\u001b[0m\u001b[0m_parent_header\u001b[0m\u001b[0;34m,\u001b[0m\u001b[0;34m\u001b[0m\u001b[0;34m\u001b[0m\u001b[0m\n",
            "\u001b[0;32m/usr/local/lib/python3.10/dist-packages/ipykernel/kernelbase.py\u001b[0m in \u001b[0;36m_input_request\u001b[0;34m(self, prompt, ident, parent, password)\u001b[0m\n\u001b[1;32m    893\u001b[0m             \u001b[0;32mexcept\u001b[0m \u001b[0mKeyboardInterrupt\u001b[0m\u001b[0;34m:\u001b[0m\u001b[0;34m\u001b[0m\u001b[0;34m\u001b[0m\u001b[0m\n\u001b[1;32m    894\u001b[0m                 \u001b[0;31m# re-raise KeyboardInterrupt, to truncate traceback\u001b[0m\u001b[0;34m\u001b[0m\u001b[0;34m\u001b[0m\u001b[0m\n\u001b[0;32m--> 895\u001b[0;31m                 \u001b[0;32mraise\u001b[0m \u001b[0mKeyboardInterrupt\u001b[0m\u001b[0;34m(\u001b[0m\u001b[0;34m\"Interrupted by user\"\u001b[0m\u001b[0;34m)\u001b[0m \u001b[0;32mfrom\u001b[0m \u001b[0;32mNone\u001b[0m\u001b[0;34m\u001b[0m\u001b[0;34m\u001b[0m\u001b[0m\n\u001b[0m\u001b[1;32m    896\u001b[0m             \u001b[0;32mexcept\u001b[0m \u001b[0mException\u001b[0m \u001b[0;32mas\u001b[0m \u001b[0me\u001b[0m\u001b[0;34m:\u001b[0m\u001b[0;34m\u001b[0m\u001b[0;34m\u001b[0m\u001b[0m\n\u001b[1;32m    897\u001b[0m                 \u001b[0mself\u001b[0m\u001b[0;34m.\u001b[0m\u001b[0mlog\u001b[0m\u001b[0;34m.\u001b[0m\u001b[0mwarning\u001b[0m\u001b[0;34m(\u001b[0m\u001b[0;34m\"Invalid Message:\"\u001b[0m\u001b[0;34m,\u001b[0m \u001b[0mexc_info\u001b[0m\u001b[0;34m=\u001b[0m\u001b[0;32mTrue\u001b[0m\u001b[0;34m)\u001b[0m\u001b[0;34m\u001b[0m\u001b[0;34m\u001b[0m\u001b[0m\n",
            "\u001b[0;31mKeyboardInterrupt\u001b[0m: Interrupted by user"
          ]
        }
      ]
    },
    {
      "cell_type": "code",
      "source": [
        "peso = int(input(\"qual o peso da carga? \"))\n",
        "\n",
        "if peso <= 10:\n",
        "  print(\"50\")\n",
        "elif (peso > 10) and (peso <=20) :\n",
        "  print(\"é 80\")\n",
        "else:\n",
        "  print(\"não é aceito\")\n"
      ],
      "metadata": {
        "id": "nVsTfIS1IdTg"
      },
      "execution_count": null,
      "outputs": []
    },
    {
      "cell_type": "markdown",
      "source": [
        "# Tratamento de Dados\n"
      ],
      "metadata": {
        "id": "mBQrFKOtWKUu"
      }
    },
    {
      "cell_type": "markdown",
      "source": [
        "Tratamento de dados NA"
      ],
      "metadata": {
        "id": "1XvK93i1b8or"
      }
    },
    {
      "cell_type": "code",
      "source": [
        "# Baixando o arquivo de metadados\n",
        "downloaded = drive.CreateFile({'id': '1APq2h4myiiUiTvlHGcPunlgZkrUzj9J3'})\n",
        "downloaded.GetContentFile('tempo.csv')\n",
        "print(downloaded['title'], downloaded['mimeType'])"
      ],
      "metadata": {
        "colab": {
          "base_uri": "https://localhost:8080/"
        },
        "id": "ud_J5jedWNpu",
        "outputId": "66083070-1d44-4baa-af16-9c11fc9b8c64"
      },
      "execution_count": null,
      "outputs": [
        {
          "output_type": "stream",
          "name": "stdout",
          "text": [
            "tempo.csv text/csv\n"
          ]
        }
      ]
    },
    {
      "cell_type": "code",
      "source": [
        "tempo = pd.read_csv(\"tempo.csv\", sep=\";\")\n",
        "tempo"
      ],
      "metadata": {
        "colab": {
          "base_uri": "https://localhost:8080/",
          "height": 488
        },
        "id": "NNKrj77LWOz5",
        "outputId": "4be4060b-2760-478e-af50-d2efad7f38a4"
      },
      "execution_count": null,
      "outputs": [
        {
          "output_type": "execute_result",
          "data": {
            "text/plain": [
              "   Aparencia  Temperatura  Umidade       Vento Jogar\n",
              "0        sol           85     85.0       FALSO   nao\n",
              "1        sol           80     90.0  VERDADEIRO   nao\n",
              "2    nublado           83     86.0       FALSO   sim\n",
              "3      chuva           70      NaN       FALSO   sim\n",
              "4      chuva           68     80.0       FALSO   sim\n",
              "5      chuva           65     70.0  VERDADEIRO   nao\n",
              "6      menos           64     65.0  VERDADEIRO   sim\n",
              "7        sol         1220     95.0       FALSO   nao\n",
              "8        sol           69     70.0       FALSO   sim\n",
              "9      chuva           75    200.0         NaN   sim\n",
              "10       sol           75     70.0  VERDADEIRO   sim\n",
              "11   nublado           72     90.0  VERDADEIRO   sim\n",
              "12   nublado           81     75.0       FALSO   sim\n",
              "13     chuva           71     91.0  VERDADEIRO   nao"
            ],
            "text/html": [
              "\n",
              "  <div id=\"df-1c83258a-b263-4ed1-848e-5a4a64cb1083\">\n",
              "    <div class=\"colab-df-container\">\n",
              "      <div>\n",
              "<style scoped>\n",
              "    .dataframe tbody tr th:only-of-type {\n",
              "        vertical-align: middle;\n",
              "    }\n",
              "\n",
              "    .dataframe tbody tr th {\n",
              "        vertical-align: top;\n",
              "    }\n",
              "\n",
              "    .dataframe thead th {\n",
              "        text-align: right;\n",
              "    }\n",
              "</style>\n",
              "<table border=\"1\" class=\"dataframe\">\n",
              "  <thead>\n",
              "    <tr style=\"text-align: right;\">\n",
              "      <th></th>\n",
              "      <th>Aparencia</th>\n",
              "      <th>Temperatura</th>\n",
              "      <th>Umidade</th>\n",
              "      <th>Vento</th>\n",
              "      <th>Jogar</th>\n",
              "    </tr>\n",
              "  </thead>\n",
              "  <tbody>\n",
              "    <tr>\n",
              "      <th>0</th>\n",
              "      <td>sol</td>\n",
              "      <td>85</td>\n",
              "      <td>85.0</td>\n",
              "      <td>FALSO</td>\n",
              "      <td>nao</td>\n",
              "    </tr>\n",
              "    <tr>\n",
              "      <th>1</th>\n",
              "      <td>sol</td>\n",
              "      <td>80</td>\n",
              "      <td>90.0</td>\n",
              "      <td>VERDADEIRO</td>\n",
              "      <td>nao</td>\n",
              "    </tr>\n",
              "    <tr>\n",
              "      <th>2</th>\n",
              "      <td>nublado</td>\n",
              "      <td>83</td>\n",
              "      <td>86.0</td>\n",
              "      <td>FALSO</td>\n",
              "      <td>sim</td>\n",
              "    </tr>\n",
              "    <tr>\n",
              "      <th>3</th>\n",
              "      <td>chuva</td>\n",
              "      <td>70</td>\n",
              "      <td>NaN</td>\n",
              "      <td>FALSO</td>\n",
              "      <td>sim</td>\n",
              "    </tr>\n",
              "    <tr>\n",
              "      <th>4</th>\n",
              "      <td>chuva</td>\n",
              "      <td>68</td>\n",
              "      <td>80.0</td>\n",
              "      <td>FALSO</td>\n",
              "      <td>sim</td>\n",
              "    </tr>\n",
              "    <tr>\n",
              "      <th>5</th>\n",
              "      <td>chuva</td>\n",
              "      <td>65</td>\n",
              "      <td>70.0</td>\n",
              "      <td>VERDADEIRO</td>\n",
              "      <td>nao</td>\n",
              "    </tr>\n",
              "    <tr>\n",
              "      <th>6</th>\n",
              "      <td>menos</td>\n",
              "      <td>64</td>\n",
              "      <td>65.0</td>\n",
              "      <td>VERDADEIRO</td>\n",
              "      <td>sim</td>\n",
              "    </tr>\n",
              "    <tr>\n",
              "      <th>7</th>\n",
              "      <td>sol</td>\n",
              "      <td>1220</td>\n",
              "      <td>95.0</td>\n",
              "      <td>FALSO</td>\n",
              "      <td>nao</td>\n",
              "    </tr>\n",
              "    <tr>\n",
              "      <th>8</th>\n",
              "      <td>sol</td>\n",
              "      <td>69</td>\n",
              "      <td>70.0</td>\n",
              "      <td>FALSO</td>\n",
              "      <td>sim</td>\n",
              "    </tr>\n",
              "    <tr>\n",
              "      <th>9</th>\n",
              "      <td>chuva</td>\n",
              "      <td>75</td>\n",
              "      <td>200.0</td>\n",
              "      <td>NaN</td>\n",
              "      <td>sim</td>\n",
              "    </tr>\n",
              "    <tr>\n",
              "      <th>10</th>\n",
              "      <td>sol</td>\n",
              "      <td>75</td>\n",
              "      <td>70.0</td>\n",
              "      <td>VERDADEIRO</td>\n",
              "      <td>sim</td>\n",
              "    </tr>\n",
              "    <tr>\n",
              "      <th>11</th>\n",
              "      <td>nublado</td>\n",
              "      <td>72</td>\n",
              "      <td>90.0</td>\n",
              "      <td>VERDADEIRO</td>\n",
              "      <td>sim</td>\n",
              "    </tr>\n",
              "    <tr>\n",
              "      <th>12</th>\n",
              "      <td>nublado</td>\n",
              "      <td>81</td>\n",
              "      <td>75.0</td>\n",
              "      <td>FALSO</td>\n",
              "      <td>sim</td>\n",
              "    </tr>\n",
              "    <tr>\n",
              "      <th>13</th>\n",
              "      <td>chuva</td>\n",
              "      <td>71</td>\n",
              "      <td>91.0</td>\n",
              "      <td>VERDADEIRO</td>\n",
              "      <td>nao</td>\n",
              "    </tr>\n",
              "  </tbody>\n",
              "</table>\n",
              "</div>\n",
              "      <button class=\"colab-df-convert\" onclick=\"convertToInteractive('df-1c83258a-b263-4ed1-848e-5a4a64cb1083')\"\n",
              "              title=\"Convert this dataframe to an interactive table.\"\n",
              "              style=\"display:none;\">\n",
              "        \n",
              "  <svg xmlns=\"http://www.w3.org/2000/svg\" height=\"24px\"viewBox=\"0 0 24 24\"\n",
              "       width=\"24px\">\n",
              "    <path d=\"M0 0h24v24H0V0z\" fill=\"none\"/>\n",
              "    <path d=\"M18.56 5.44l.94 2.06.94-2.06 2.06-.94-2.06-.94-.94-2.06-.94 2.06-2.06.94zm-11 1L8.5 8.5l.94-2.06 2.06-.94-2.06-.94L8.5 2.5l-.94 2.06-2.06.94zm10 10l.94 2.06.94-2.06 2.06-.94-2.06-.94-.94-2.06-.94 2.06-2.06.94z\"/><path d=\"M17.41 7.96l-1.37-1.37c-.4-.4-.92-.59-1.43-.59-.52 0-1.04.2-1.43.59L10.3 9.45l-7.72 7.72c-.78.78-.78 2.05 0 2.83L4 21.41c.39.39.9.59 1.41.59.51 0 1.02-.2 1.41-.59l7.78-7.78 2.81-2.81c.8-.78.8-2.07 0-2.86zM5.41 20L4 18.59l7.72-7.72 1.47 1.35L5.41 20z\"/>\n",
              "  </svg>\n",
              "      </button>\n",
              "      \n",
              "  <style>\n",
              "    .colab-df-container {\n",
              "      display:flex;\n",
              "      flex-wrap:wrap;\n",
              "      gap: 12px;\n",
              "    }\n",
              "\n",
              "    .colab-df-convert {\n",
              "      background-color: #E8F0FE;\n",
              "      border: none;\n",
              "      border-radius: 50%;\n",
              "      cursor: pointer;\n",
              "      display: none;\n",
              "      fill: #1967D2;\n",
              "      height: 32px;\n",
              "      padding: 0 0 0 0;\n",
              "      width: 32px;\n",
              "    }\n",
              "\n",
              "    .colab-df-convert:hover {\n",
              "      background-color: #E2EBFA;\n",
              "      box-shadow: 0px 1px 2px rgba(60, 64, 67, 0.3), 0px 1px 3px 1px rgba(60, 64, 67, 0.15);\n",
              "      fill: #174EA6;\n",
              "    }\n",
              "\n",
              "    [theme=dark] .colab-df-convert {\n",
              "      background-color: #3B4455;\n",
              "      fill: #D2E3FC;\n",
              "    }\n",
              "\n",
              "    [theme=dark] .colab-df-convert:hover {\n",
              "      background-color: #434B5C;\n",
              "      box-shadow: 0px 1px 3px 1px rgba(0, 0, 0, 0.15);\n",
              "      filter: drop-shadow(0px 1px 2px rgba(0, 0, 0, 0.3));\n",
              "      fill: #FFFFFF;\n",
              "    }\n",
              "  </style>\n",
              "\n",
              "      <script>\n",
              "        const buttonEl =\n",
              "          document.querySelector('#df-1c83258a-b263-4ed1-848e-5a4a64cb1083 button.colab-df-convert');\n",
              "        buttonEl.style.display =\n",
              "          google.colab.kernel.accessAllowed ? 'block' : 'none';\n",
              "\n",
              "        async function convertToInteractive(key) {\n",
              "          const element = document.querySelector('#df-1c83258a-b263-4ed1-848e-5a4a64cb1083');\n",
              "          const dataTable =\n",
              "            await google.colab.kernel.invokeFunction('convertToInteractive',\n",
              "                                                     [key], {});\n",
              "          if (!dataTable) return;\n",
              "\n",
              "          const docLinkHtml = 'Like what you see? Visit the ' +\n",
              "            '<a target=\"_blank\" href=https://colab.research.google.com/notebooks/data_table.ipynb>data table notebook</a>'\n",
              "            + ' to learn more about interactive tables.';\n",
              "          element.innerHTML = '';\n",
              "          dataTable['output_type'] = 'display_data';\n",
              "          await google.colab.output.renderOutput(dataTable, element);\n",
              "          const docLink = document.createElement('div');\n",
              "          docLink.innerHTML = docLinkHtml;\n",
              "          element.appendChild(docLink);\n",
              "        }\n",
              "      </script>\n",
              "    </div>\n",
              "  </div>\n",
              "  "
            ]
          },
          "metadata": {},
          "execution_count": 60
        }
      ]
    },
    {
      "cell_type": "code",
      "source": [
        "tempo.isnull().sum()"
      ],
      "metadata": {
        "colab": {
          "base_uri": "https://localhost:8080/"
        },
        "id": "Y2xfwcBjW_VN",
        "outputId": "5239383f-4b71-45c4-8986-da11927b18a8"
      },
      "execution_count": null,
      "outputs": [
        {
          "output_type": "execute_result",
          "data": {
            "text/plain": [
              "Aparencia      0\n",
              "Temperatura    0\n",
              "Umidade        1\n",
              "Vento          1\n",
              "Jogar          0\n",
              "dtype: int64"
            ]
          },
          "metadata": {},
          "execution_count": 61
        }
      ]
    },
    {
      "cell_type": "code",
      "source": [
        "mediana = tempo[\"Umidade\"].median()\n",
        "mediana"
      ],
      "metadata": {
        "colab": {
          "base_uri": "https://localhost:8080/"
        },
        "id": "agngIi-_XRXR",
        "outputId": "f1a8b80c-7470-432b-e1f2-3c4173789b6a"
      },
      "execution_count": null,
      "outputs": [
        {
          "output_type": "execute_result",
          "data": {
            "text/plain": [
              "85.0"
            ]
          },
          "metadata": {},
          "execution_count": 62
        }
      ]
    },
    {
      "cell_type": "code",
      "source": [
        "tempo[\"Umidade\"].fillna(mediana, inplace=True)"
      ],
      "metadata": {
        "id": "0KutwXWNaQhb"
      },
      "execution_count": null,
      "outputs": []
    },
    {
      "cell_type": "code",
      "source": [
        "vento = tempo.groupby([\"Vento\"]).size()\n",
        "vento"
      ],
      "metadata": {
        "colab": {
          "base_uri": "https://localhost:8080/"
        },
        "id": "AdN7Q1D9a0-P",
        "outputId": "2fdc3c2c-f1f9-44c1-80c8-7a3d66e7642c"
      },
      "execution_count": null,
      "outputs": [
        {
          "output_type": "execute_result",
          "data": {
            "text/plain": [
              "Vento\n",
              "FALSO         7\n",
              "VERDADEIRO    6\n",
              "dtype: int64"
            ]
          },
          "metadata": {},
          "execution_count": 64
        }
      ]
    },
    {
      "cell_type": "code",
      "source": [
        "tempo[\"Vento\"].fillna(\"FALSO\", inplace=True)"
      ],
      "metadata": {
        "id": "5EBmwBTWa21_"
      },
      "execution_count": null,
      "outputs": []
    },
    {
      "cell_type": "code",
      "source": [
        "tempo"
      ],
      "metadata": {
        "colab": {
          "base_uri": "https://localhost:8080/",
          "height": 488
        },
        "id": "iL-QF7Aab38T",
        "outputId": "4eaf1747-5c8c-47ea-d562-68f2576712d4"
      },
      "execution_count": null,
      "outputs": [
        {
          "output_type": "execute_result",
          "data": {
            "text/plain": [
              "   Aparencia  Temperatura  Umidade       Vento Jogar\n",
              "0        sol           85     85.0       FALSO   nao\n",
              "1        sol           80     90.0  VERDADEIRO   nao\n",
              "2    nublado           83     86.0       FALSO   sim\n",
              "3      chuva           70     85.0       FALSO   sim\n",
              "4      chuva           68     80.0       FALSO   sim\n",
              "5      chuva           65     70.0  VERDADEIRO   nao\n",
              "6      menos           64     65.0  VERDADEIRO   sim\n",
              "7        sol         1220     95.0       FALSO   nao\n",
              "8        sol           69     70.0       FALSO   sim\n",
              "9      chuva           75    200.0       FALSO   sim\n",
              "10       sol           75     70.0  VERDADEIRO   sim\n",
              "11   nublado           72     90.0  VERDADEIRO   sim\n",
              "12   nublado           81     75.0       FALSO   sim\n",
              "13     chuva           71     91.0  VERDADEIRO   nao"
            ],
            "text/html": [
              "\n",
              "  <div id=\"df-cd955662-79be-4f00-9895-37c8a51ebf3d\">\n",
              "    <div class=\"colab-df-container\">\n",
              "      <div>\n",
              "<style scoped>\n",
              "    .dataframe tbody tr th:only-of-type {\n",
              "        vertical-align: middle;\n",
              "    }\n",
              "\n",
              "    .dataframe tbody tr th {\n",
              "        vertical-align: top;\n",
              "    }\n",
              "\n",
              "    .dataframe thead th {\n",
              "        text-align: right;\n",
              "    }\n",
              "</style>\n",
              "<table border=\"1\" class=\"dataframe\">\n",
              "  <thead>\n",
              "    <tr style=\"text-align: right;\">\n",
              "      <th></th>\n",
              "      <th>Aparencia</th>\n",
              "      <th>Temperatura</th>\n",
              "      <th>Umidade</th>\n",
              "      <th>Vento</th>\n",
              "      <th>Jogar</th>\n",
              "    </tr>\n",
              "  </thead>\n",
              "  <tbody>\n",
              "    <tr>\n",
              "      <th>0</th>\n",
              "      <td>sol</td>\n",
              "      <td>85</td>\n",
              "      <td>85.0</td>\n",
              "      <td>FALSO</td>\n",
              "      <td>nao</td>\n",
              "    </tr>\n",
              "    <tr>\n",
              "      <th>1</th>\n",
              "      <td>sol</td>\n",
              "      <td>80</td>\n",
              "      <td>90.0</td>\n",
              "      <td>VERDADEIRO</td>\n",
              "      <td>nao</td>\n",
              "    </tr>\n",
              "    <tr>\n",
              "      <th>2</th>\n",
              "      <td>nublado</td>\n",
              "      <td>83</td>\n",
              "      <td>86.0</td>\n",
              "      <td>FALSO</td>\n",
              "      <td>sim</td>\n",
              "    </tr>\n",
              "    <tr>\n",
              "      <th>3</th>\n",
              "      <td>chuva</td>\n",
              "      <td>70</td>\n",
              "      <td>85.0</td>\n",
              "      <td>FALSO</td>\n",
              "      <td>sim</td>\n",
              "    </tr>\n",
              "    <tr>\n",
              "      <th>4</th>\n",
              "      <td>chuva</td>\n",
              "      <td>68</td>\n",
              "      <td>80.0</td>\n",
              "      <td>FALSO</td>\n",
              "      <td>sim</td>\n",
              "    </tr>\n",
              "    <tr>\n",
              "      <th>5</th>\n",
              "      <td>chuva</td>\n",
              "      <td>65</td>\n",
              "      <td>70.0</td>\n",
              "      <td>VERDADEIRO</td>\n",
              "      <td>nao</td>\n",
              "    </tr>\n",
              "    <tr>\n",
              "      <th>6</th>\n",
              "      <td>menos</td>\n",
              "      <td>64</td>\n",
              "      <td>65.0</td>\n",
              "      <td>VERDADEIRO</td>\n",
              "      <td>sim</td>\n",
              "    </tr>\n",
              "    <tr>\n",
              "      <th>7</th>\n",
              "      <td>sol</td>\n",
              "      <td>1220</td>\n",
              "      <td>95.0</td>\n",
              "      <td>FALSO</td>\n",
              "      <td>nao</td>\n",
              "    </tr>\n",
              "    <tr>\n",
              "      <th>8</th>\n",
              "      <td>sol</td>\n",
              "      <td>69</td>\n",
              "      <td>70.0</td>\n",
              "      <td>FALSO</td>\n",
              "      <td>sim</td>\n",
              "    </tr>\n",
              "    <tr>\n",
              "      <th>9</th>\n",
              "      <td>chuva</td>\n",
              "      <td>75</td>\n",
              "      <td>200.0</td>\n",
              "      <td>FALSO</td>\n",
              "      <td>sim</td>\n",
              "    </tr>\n",
              "    <tr>\n",
              "      <th>10</th>\n",
              "      <td>sol</td>\n",
              "      <td>75</td>\n",
              "      <td>70.0</td>\n",
              "      <td>VERDADEIRO</td>\n",
              "      <td>sim</td>\n",
              "    </tr>\n",
              "    <tr>\n",
              "      <th>11</th>\n",
              "      <td>nublado</td>\n",
              "      <td>72</td>\n",
              "      <td>90.0</td>\n",
              "      <td>VERDADEIRO</td>\n",
              "      <td>sim</td>\n",
              "    </tr>\n",
              "    <tr>\n",
              "      <th>12</th>\n",
              "      <td>nublado</td>\n",
              "      <td>81</td>\n",
              "      <td>75.0</td>\n",
              "      <td>FALSO</td>\n",
              "      <td>sim</td>\n",
              "    </tr>\n",
              "    <tr>\n",
              "      <th>13</th>\n",
              "      <td>chuva</td>\n",
              "      <td>71</td>\n",
              "      <td>91.0</td>\n",
              "      <td>VERDADEIRO</td>\n",
              "      <td>nao</td>\n",
              "    </tr>\n",
              "  </tbody>\n",
              "</table>\n",
              "</div>\n",
              "      <button class=\"colab-df-convert\" onclick=\"convertToInteractive('df-cd955662-79be-4f00-9895-37c8a51ebf3d')\"\n",
              "              title=\"Convert this dataframe to an interactive table.\"\n",
              "              style=\"display:none;\">\n",
              "        \n",
              "  <svg xmlns=\"http://www.w3.org/2000/svg\" height=\"24px\"viewBox=\"0 0 24 24\"\n",
              "       width=\"24px\">\n",
              "    <path d=\"M0 0h24v24H0V0z\" fill=\"none\"/>\n",
              "    <path d=\"M18.56 5.44l.94 2.06.94-2.06 2.06-.94-2.06-.94-.94-2.06-.94 2.06-2.06.94zm-11 1L8.5 8.5l.94-2.06 2.06-.94-2.06-.94L8.5 2.5l-.94 2.06-2.06.94zm10 10l.94 2.06.94-2.06 2.06-.94-2.06-.94-.94-2.06-.94 2.06-2.06.94z\"/><path d=\"M17.41 7.96l-1.37-1.37c-.4-.4-.92-.59-1.43-.59-.52 0-1.04.2-1.43.59L10.3 9.45l-7.72 7.72c-.78.78-.78 2.05 0 2.83L4 21.41c.39.39.9.59 1.41.59.51 0 1.02-.2 1.41-.59l7.78-7.78 2.81-2.81c.8-.78.8-2.07 0-2.86zM5.41 20L4 18.59l7.72-7.72 1.47 1.35L5.41 20z\"/>\n",
              "  </svg>\n",
              "      </button>\n",
              "      \n",
              "  <style>\n",
              "    .colab-df-container {\n",
              "      display:flex;\n",
              "      flex-wrap:wrap;\n",
              "      gap: 12px;\n",
              "    }\n",
              "\n",
              "    .colab-df-convert {\n",
              "      background-color: #E8F0FE;\n",
              "      border: none;\n",
              "      border-radius: 50%;\n",
              "      cursor: pointer;\n",
              "      display: none;\n",
              "      fill: #1967D2;\n",
              "      height: 32px;\n",
              "      padding: 0 0 0 0;\n",
              "      width: 32px;\n",
              "    }\n",
              "\n",
              "    .colab-df-convert:hover {\n",
              "      background-color: #E2EBFA;\n",
              "      box-shadow: 0px 1px 2px rgba(60, 64, 67, 0.3), 0px 1px 3px 1px rgba(60, 64, 67, 0.15);\n",
              "      fill: #174EA6;\n",
              "    }\n",
              "\n",
              "    [theme=dark] .colab-df-convert {\n",
              "      background-color: #3B4455;\n",
              "      fill: #D2E3FC;\n",
              "    }\n",
              "\n",
              "    [theme=dark] .colab-df-convert:hover {\n",
              "      background-color: #434B5C;\n",
              "      box-shadow: 0px 1px 3px 1px rgba(0, 0, 0, 0.15);\n",
              "      filter: drop-shadow(0px 1px 2px rgba(0, 0, 0, 0.3));\n",
              "      fill: #FFFFFF;\n",
              "    }\n",
              "  </style>\n",
              "\n",
              "      <script>\n",
              "        const buttonEl =\n",
              "          document.querySelector('#df-cd955662-79be-4f00-9895-37c8a51ebf3d button.colab-df-convert');\n",
              "        buttonEl.style.display =\n",
              "          google.colab.kernel.accessAllowed ? 'block' : 'none';\n",
              "\n",
              "        async function convertToInteractive(key) {\n",
              "          const element = document.querySelector('#df-cd955662-79be-4f00-9895-37c8a51ebf3d');\n",
              "          const dataTable =\n",
              "            await google.colab.kernel.invokeFunction('convertToInteractive',\n",
              "                                                     [key], {});\n",
              "          if (!dataTable) return;\n",
              "\n",
              "          const docLinkHtml = 'Like what you see? Visit the ' +\n",
              "            '<a target=\"_blank\" href=https://colab.research.google.com/notebooks/data_table.ipynb>data table notebook</a>'\n",
              "            + ' to learn more about interactive tables.';\n",
              "          element.innerHTML = '';\n",
              "          dataTable['output_type'] = 'display_data';\n",
              "          await google.colab.output.renderOutput(dataTable, element);\n",
              "          const docLink = document.createElement('div');\n",
              "          docLink.innerHTML = docLinkHtml;\n",
              "          element.appendChild(docLink);\n",
              "        }\n",
              "      </script>\n",
              "    </div>\n",
              "  </div>\n",
              "  "
            ]
          },
          "metadata": {},
          "execution_count": 66
        }
      ]
    },
    {
      "cell_type": "markdown",
      "source": [
        "# Vizualização de Dados - Dashboards, gráficos, entre outros\n"
      ],
      "metadata": {
        "id": "H7frid2rhXYa"
      }
    },
    {
      "cell_type": "markdown",
      "source": [
        "##  Tipos de elementos\n",
        "1. Está usando o elemento gráfico adequado?\n",
        "2. Não há **excesso** de elementos decorativos?\n",
        "3. Não há mais do que **7 elementos** no Dashboard?\n",
        "\n",
        "## Dados\n",
        "4. Dados estão no **contexto** correto?\n",
        "5. Dados não apresentam um **excesso** de **detalhes**?\n",
        "6. Dados mais importantes estão destacados?\n",
        "7. Nãpo há mais que 20 instâncias(linhas) por elemento(Gráfico)?\n",
        "8. Não existe excesso de **elementos não relacionados** aos dados?\n",
        "\n",
        "## Painel\n",
        "9. Não transcende as dimensões de uma tela?\n",
        "10. Não utiliza medidas **ineficientes**?\n",
        "11. Existe um único assunto no Dashboard?\n",
        "12. Está destacando as informações mais relevantes na área de ênfase?\n",
        "13. Está mantida a proporção 1/6 entre eixos?\n",
        "14. Existem referências de comparação\n",
        "\n",
        "## Design\n",
        "15. Foi considerado a ranking de percepção do cérebro?\n",
        "16. As cores escolhidas são suaves?\n",
        "17. Foram evitadas linhas de grade e moiré vibration?\n",
        "18. Foram feitas considerações sobre daltonismo?"
      ],
      "metadata": {
        "id": "v_KALWYnheA3"
      }
    },
    {
      "cell_type": "markdown",
      "source": [
        "## Tipos de gráficos"
      ],
      "metadata": {
        "id": "orhLKkvOomDP"
      }
    },
    {
      "cell_type": "code",
      "source": [
        "import seaborn as sns\n",
        "import matplotlib.pyplot as plt\n",
        "\n",
        "# Baixando o arquivo de metadados\n",
        "downloaded = drive.CreateFile({'id': '1xBbVQhRCnGgqVftAdr_fH6ZhGlPD_KYJ'})\n",
        "downloaded.GetContentFile('trees.csv')\n",
        "print(downloaded['title'], downloaded['mimeType'])\n",
        "\n",
        "trees = pd.read_csv(\"trees.csv\")\n",
        "\n",
        "# Baixando o arquivo de metadados\n",
        "downloaded = drive.CreateFile({'id': '1KVnBn1w3OVZvGkpiKkCDv03afakgdFbu'})\n",
        "downloaded.GetContentFile('insect.csv')\n",
        "print(downloaded['title'], downloaded['mimeType'])\n",
        "\n",
        "inseto = pd.read_csv(\"insect.csv\")\n",
        "\n",
        "# Baixando o arquivo de metadados\n",
        "downloaded = drive.CreateFile({'id': '1oRgT4o5qY7eX-YMsOaWmppOg-dIJ8tpI'})\n",
        "downloaded.GetContentFile('chicken.csv')\n",
        "print(downloaded['title'], downloaded['mimeType'])\n",
        "\n",
        "frango = pd.read_csv(\"chicken.csv\")\n",
        "\n",
        "# Baixando o arquivo de metadados\n",
        "downloaded = drive.CreateFile({'id': '1H_A4KRgHxDdawpyjZx2DHN6IEEaSHSgi'})\n",
        "downloaded.GetContentFile('co2.csv')\n",
        "print(downloaded['title'], downloaded['mimeType'])\n",
        "\n",
        "co2 = pd.read_csv(\"co2.csv\")\n",
        "\n",
        "# Baixando o arquivo de metadados\n",
        "downloaded = drive.CreateFile({'id': '1Wilexb2Q6P5XjbawjKktaZYbVEjdm2wj'})\n",
        "downloaded.GetContentFile('esoph.csv')\n",
        "print(downloaded['title'], downloaded['mimeType'])\n",
        "\n",
        "esoph = pd.read_csv(\"esoph.csv\")\n",
        "\n",
        "# Baixando o arquivo de metadados\n",
        "downloaded = drive.CreateFile({'id': '1wcjbZdl2Kv9PBsC1dK2zIePQPuuIpDDK'})\n",
        "downloaded.GetContentFile('ochard.csv')\n",
        "print(downloaded['title'], downloaded['mimeType'])\n",
        "\n",
        "ochard = pd.read_csv(\"ochard.csv\")"
      ],
      "metadata": {
        "colab": {
          "base_uri": "https://localhost:8080/"
        },
        "id": "swfoUCQlqCBX",
        "outputId": "8d899445-5101-414c-ef5e-a38560630588"
      },
      "execution_count": null,
      "outputs": [
        {
          "output_type": "stream",
          "name": "stdout",
          "text": [
            "trees.csv text/csv\n",
            "insect.csv text/csv\n",
            "chicken.csv text/csv\n",
            "co2.csv text/csv\n",
            "esoph.csv text/csv\n",
            "orchard.csv text/csv\n"
          ]
        }
      ]
    },
    {
      "cell_type": "markdown",
      "source": [
        "### Setores (Pizza)\n",
        "\n",
        "Melhor para dados categóricos de baixa precisão"
      ],
      "metadata": {
        "id": "7S18z6OUo-Dr"
      }
    },
    {
      "cell_type": "code",
      "source": [
        "# Primeiro é necessário agrupar as categorias\n",
        "agrupado = inseto.groupby([\"spray\"])[\"count\"].sum()\n",
        "agrupado\n",
        "\n",
        "agrupado.plot.pie(legend=True)"
      ],
      "metadata": {
        "colab": {
          "base_uri": "https://localhost:8080/",
          "height": 423
        },
        "id": "5QJR9On_peJ5",
        "outputId": "ad3f516f-de35-4e68-91dd-1bea1443a1f5"
      },
      "execution_count": null,
      "outputs": [
        {
          "output_type": "execute_result",
          "data": {
            "text/plain": [
              "<Axes: ylabel='count'>"
            ]
          },
          "metadata": {},
          "execution_count": 26
        },
        {
          "output_type": "display_data",
          "data": {
            "text/plain": [
              "<Figure size 640x480 with 1 Axes>"
            ],
            "image/png": "[encoded data removed]"
          },
          "metadata": {}
        }
      ]
    },
    {
      "cell_type": "markdown",
      "source": [
        "### Barra\n",
        "\n",
        "Melhor para dados categóricos que necessitem de precisão"
      ],
      "metadata": {
        "id": "Nvo4NLeQpSBp"
      }
    },
    {
      "cell_type": "code",
      "source": [
        "agrupado.plot.bar(color=[\"blue\",\"green\",\"yellow\",\"red\",\"brown\",\"orange\"])"
      ],
      "metadata": {
        "colab": {
          "base_uri": "https://localhost:8080/",
          "height": 463
        },
        "id": "kVeCrHhPpdip",
        "outputId": "026e9571-7327-494b-c726-71c0ceb804c2"
      },
      "execution_count": null,
      "outputs": [
        {
          "output_type": "execute_result",
          "data": {
            "text/plain": [
              "<Axes: xlabel='spray'>"
            ]
          },
          "metadata": {},
          "execution_count": 27
        },
        {
          "output_type": "display_data",
          "data": {
            "text/plain": [
              "<Figure size 640x480 with 1 Axes>"
            ],
            "image/png": "[encoded data removed]"
          },
          "metadata": {}
        }
      ]
    },
    {
      "cell_type": "markdown",
      "source": [
        "### Historiograma e BoxPlot (com gráfico de densidade)\n",
        "\n",
        "Melhor para vizualizar a distribuição dos dados"
      ],
      "metadata": {
        "id": "hTZT_1Kgpeef"
      }
    },
    {
      "cell_type": "code",
      "source": [
        "# Seaborn\n",
        "sns.histplot(trees.iloc[:,1], kde=True, bins = 6)"
      ],
      "metadata": {
        "colab": {
          "base_uri": "https://localhost:8080/",
          "height": 466
        },
        "id": "m1Sf-tCmq_q_",
        "outputId": "65cb6040-13e3-46a5-d03d-b42694a1b51c"
      },
      "execution_count": null,
      "outputs": [
        {
          "output_type": "execute_result",
          "data": {
            "text/plain": [
              "<Axes: xlabel='Height', ylabel='Count'>"
            ]
          },
          "metadata": {},
          "execution_count": 13
        },
        {
          "output_type": "display_data",
          "data": {
            "text/plain": [
              "<Figure size 640x480 with 1 Axes>"
            ],
            "image/png": "[encoded data removed]"
          },
          "metadata": {}
        }
      ]
    },
    {
      "cell_type": "code",
      "source": [
        "# Matplotlib\n",
        "plt.hist(trees[\"Volume\"], bins = 6)"
      ],
      "metadata": {
        "colab": {
          "base_uri": "https://localhost:8080/",
          "height": 482
        },
        "id": "C-BV6C6PKdUx",
        "outputId": "abbb27ae-7b84-4b55-bbc8-0f2994aae787"
      },
      "execution_count": null,
      "outputs": [
        {
          "output_type": "execute_result",
          "data": {
            "text/plain": [
              "(array([ 3., 12.,  7.,  3.,  5.,  1.]),\n",
              " array([ 8.3 , 10.35, 12.4 , 14.45, 16.5 , 18.55, 20.6 ]),\n",
              " <BarContainer object of 6 artists>)"
            ]
          },
          "metadata": {},
          "execution_count": 95
        },
        {
          "output_type": "display_data",
          "data": {
            "text/plain": [
              "<Figure size 640x480 with 1 Axes>"
            ],
            "image/png": "[encoded data removed]"
          },
          "metadata": {}
        }
      ]
    },
    {
      "cell_type": "code",
      "source": [
        "# Só de densidade\n",
        "sns.kdeplot(trees[\"Volume\"])"
      ],
      "metadata": {
        "colab": {
          "base_uri": "https://localhost:8080/",
          "height": 466
        },
        "id": "xVIWWIQ5JXax",
        "outputId": "280b16af-7e64-4aa0-ddb9-c10e647f6839"
      },
      "execution_count": null,
      "outputs": [
        {
          "output_type": "execute_result",
          "data": {
            "text/plain": [
              "<Axes: xlabel='Girth', ylabel='Density'>"
            ]
          },
          "metadata": {},
          "execution_count": 96
        },
        {
          "output_type": "display_data",
          "data": {
            "text/plain": [
              "<Figure size 640x480 with 1 Axes>"
            ],
            "image/png": "[encoded data removed]"
          },
          "metadata": {}
        }
      ]
    },
    {
      "cell_type": "code",
      "source": [
        "# Matplotlib\n",
        "plt.boxplot(trees[\"Girth\"], vert=False, showfliers=True, notch=False, patch_artist=True)"
      ],
      "metadata": {
        "colab": {
          "base_uri": "https://localhost:8080/",
          "height": 569
        },
        "id": "yKeDewVhABOn",
        "outputId": "15345ab2-b9c0-4587-cd0e-8aaaea52b37f"
      },
      "execution_count": null,
      "outputs": [
        {
          "output_type": "execute_result",
          "data": {
            "text/plain": [
              "{'whiskers': [<matplotlib.lines.Line2D at 0x7fe2a66ed330>,\n",
              "  <matplotlib.lines.Line2D at 0x7fe2a66ed5d0>],\n",
              " 'caps': [<matplotlib.lines.Line2D at 0x7fe2a66ed870>,\n",
              "  <matplotlib.lines.Line2D at 0x7fe2a66edb10>],\n",
              " 'boxes': [<matplotlib.patches.PathPatch at 0x7fe2a6800910>],\n",
              " 'medians': [<matplotlib.lines.Line2D at 0x7fe2a66eddb0>],\n",
              " 'fliers': [<matplotlib.lines.Line2D at 0x7fe2a66ee050>],\n",
              " 'means': []}"
            ]
          },
          "metadata": {},
          "execution_count": 30
        },
        {
          "output_type": "display_data",
          "data": {
            "text/plain": [
              "<Figure size 640x480 with 1 Axes>"
            ],
            "image/png": "[encoded data removed]"
          },
          "metadata": {}
        }
      ]
    },
    {
      "cell_type": "code",
      "source": [
        "# Seaborn\n",
        "sns.boxplot(trees[\"Girth\"], orient=\"h\").set_title(\"Árvores\")"
      ],
      "metadata": {
        "colab": {
          "base_uri": "https://localhost:8080/",
          "height": 469
        },
        "id": "r5r8NWSaHWNC",
        "outputId": "9ac936e9-581b-4253-b333-0f5bae4734a1"
      },
      "execution_count": null,
      "outputs": [
        {
          "output_type": "execute_result",
          "data": {
            "text/plain": [
              "Text(0.5, 1.0, 'Árvores')"
            ]
          },
          "metadata": {},
          "execution_count": 34
        },
        {
          "output_type": "display_data",
          "data": {
            "text/plain": [
              "<Figure size 640x480 with 1 Axes>"
            ],
            "image/png": "[encoded data removed]"
          },
          "metadata": {}
        }
      ]
    },
    {
      "cell_type": "code",
      "source": [
        "# Com vários, colocando todas as colunas\n",
        "sns.boxplot(trees)"
      ],
      "metadata": {
        "colab": {
          "base_uri": "https://localhost:8080/",
          "height": 448
        },
        "id": "PKwG9H53Hn3a",
        "outputId": "201037a7-ae3d-4688-9409-64261a24d130"
      },
      "execution_count": null,
      "outputs": [
        {
          "output_type": "execute_result",
          "data": {
            "text/plain": [
              "<Axes: >"
            ]
          },
          "metadata": {},
          "execution_count": 32
        },
        {
          "output_type": "display_data",
          "data": {
            "text/plain": [
              "<Figure size 640x480 with 1 Axes>"
            ],
            "image/png": "[encoded data removed]"
          },
          "metadata": {}
        }
      ]
    },
    {
      "cell_type": "markdown",
      "source": [
        "### Dispersão (Scatter)\n",
        "\n",
        "Melhor para vizualizar a dispersão dos dados"
      ],
      "metadata": {
        "id": "obWU6WB-uHFV"
      }
    },
    {
      "cell_type": "code",
      "source": [
        "# Matplotlib\n",
        "plt.scatter(x=trees[\"Girth\"], y=trees[\"Volume\"] , color=\"blue\", facecolors=\"none\", marker=\"*\")\n",
        "plt.title('Árvores')\n",
        "plt.xlabel('Altura')\n",
        "plt.ylabel('Volume')"
      ],
      "metadata": {
        "colab": {
          "base_uri": "https://localhost:8080/",
          "height": 489
        },
        "id": "JKMWgKopt_S3",
        "outputId": "ea005119-4683-4a66-fd5e-4881ad9748cd"
      },
      "execution_count": null,
      "outputs": [
        {
          "output_type": "execute_result",
          "data": {
            "text/plain": [
              "Text(0, 0.5, 'Volume')"
            ]
          },
          "metadata": {},
          "execution_count": 87
        },
        {
          "output_type": "display_data",
          "data": {
            "text/plain": [
              "<Figure size 640x480 with 1 Axes>"
            ],
            "image/png": "[encoded data removed]"
          },
          "metadata": {}
        }
      ]
    },
    {
      "cell_type": "code",
      "source": [
        "# Seaborn\n",
        "sns.scatterplot(x=co2[\"conc\"], y=co2[\"uptake\"], hue=co2.Type)"
      ],
      "metadata": {
        "colab": {
          "base_uri": "https://localhost:8080/",
          "height": 466
        },
        "id": "44MZ12tVKyRb",
        "outputId": "1efb9456-ac77-422f-9307-aca1fcd35ac7"
      },
      "execution_count": null,
      "outputs": [
        {
          "output_type": "execute_result",
          "data": {
            "text/plain": [
              "<Axes: xlabel='conc', ylabel='uptake'>"
            ]
          },
          "metadata": {},
          "execution_count": 88
        },
        {
          "output_type": "display_data",
          "data": {
            "text/plain": [
              "<Figure size 640x480 with 1 Axes>"
            ],
            "image/png": "[encoded data removed]"
          },
          "metadata": {}
        }
      ]
    },
    {
      "cell_type": "code",
      "source": [
        "q = co2.loc[co2[\"Type\"] == \"Quebec\"]\n",
        "m = co2.loc[co2[\"Type\"] == \"Mississippi\"]\n",
        "plt.figure(1)\n",
        "plt.subplot(1,2,1)\n",
        "sns.scatterplot(x=q[\"conc\"], y=q[\"uptake\"], color=\"blue\")\n",
        "plt.subplot(1,2,2)\n",
        "sns.scatterplot(x=m[\"conc\"], y=m[\"uptake\"], color=\"orange\")"
      ],
      "metadata": {
        "colab": {
          "base_uri": "https://localhost:8080/",
          "height": 466
        },
        "id": "bwwbkahmNt3q",
        "outputId": "825eb381-73ef-430d-e6f0-bf8dca696ae3"
      },
      "execution_count": null,
      "outputs": [
        {
          "output_type": "execute_result",
          "data": {
            "text/plain": [
              "<Axes: xlabel='conc', ylabel='uptake'>"
            ]
          },
          "metadata": {},
          "execution_count": 89
        },
        {
          "output_type": "display_data",
          "data": {
            "text/plain": [
              "<Figure size 640x480 with 2 Axes>"
            ],
            "image/png": "[encoded data removed]"
          },
          "metadata": {}
        }
      ]
    },
    {
      "cell_type": "markdown",
      "source": [
        "## Catplot - De dispersão mas divido em categorias"
      ],
      "metadata": {
        "id": "yQA3lsnCQiKu"
      }
    },
    {
      "cell_type": "code",
      "source": [
        "sns.catplot(x = \"alcgp\", y = \"ncontrols\", data = esoph, col=\"tobgp\")"
      ],
      "metadata": {
        "colab": {
          "base_uri": "https://localhost:8080/",
          "height": 477
        },
        "id": "AVJqx6vMRfmS",
        "outputId": "a9d6ed90-66f9-45e8-9e45-213d62cf3272"
      },
      "execution_count": null,
      "outputs": [
        {
          "output_type": "execute_result",
          "data": {
            "text/plain": [
              "<seaborn.axisgrid.FacetGrid at 0x7fe2a5ce32b0>"
            ]
          },
          "metadata": {},
          "execution_count": 71
        },
        {
          "output_type": "display_data",
          "data": {
            "text/plain": [
              "<Figure size 2000x500 with 4 Axes>"
            ],
            "image/png": "[encoded data removed]"
          },
          "metadata": {}
        }
      ]
    },
    {
      "cell_type": "markdown",
      "source": [
        "## Obs: printando gráficos juntos"
      ],
      "metadata": {
        "id": "Mtlel-1T0Rzc"
      }
    },
    {
      "cell_type": "code",
      "source": [
        "plt.figure(1)\n",
        "plt.subplot(2,2,1)\n",
        "sns.histplot(trees['Girth'], kde=True, bins = 6)\n",
        "plt.subplot(2,2,2)\n",
        "plt.scatter(x=trees[\"Girth\"], y=trees[\"Volume\"] , color=\"blue\", facecolors=\"none\", marker=\"*\")\n",
        "plt.subplot(2,2,3)\n",
        "plt.boxplot(trees[\"Girth\"], vert=False, showfliers=True, notch=False, patch_artist=True)\n",
        "plt.subplot(2,2,4)\n",
        "agrupado.plot.bar(color=[\"blue\",\"green\",\"yellow\",\"red\",\"brown\",\"orange\"])\n",
        "#plt.tight_layout()  ->  ajusta o layout para que não ocorra sobreposição"
      ],
      "metadata": {
        "colab": {
          "base_uri": "https://localhost:8080/",
          "height": 468
        },
        "id": "98EYrOEv0V8H",
        "outputId": "651d027b-2431-44a0-e6b7-31f6be7f5722"
      },
      "execution_count": null,
      "outputs": [
        {
          "output_type": "execute_result",
          "data": {
            "text/plain": [
              "<Axes: xlabel='spray'>"
            ]
          },
          "metadata": {},
          "execution_count": 38
        },
        {
          "output_type": "display_data",
          "data": {
            "text/plain": [
              "<Figure size 640x480 with 4 Axes>"
            ],
            "image/png": "[encoded data removed]"
          },
          "metadata": {}
        }
      ]
    },
    {
      "cell_type": "markdown",
      "source": [
        "## Gráfico 3D"
      ],
      "metadata": {
        "id": "FgLqDySdQp2c"
      }
    },
    {
      "cell_type": "code",
      "source": [
        "figura = plt.figure()\n",
        "eixo = figura.add_subplot(1,1,1,projection = \"3d\")\n",
        "eixo.scatter(ochard['decrease'], ochard[\"rowpos\"], ochard[\"colpos\"])\n",
        "eixo.set_xlabel('decrease')\n",
        "eixo.set_ylabel('rowpos')\n",
        "eixo.set_zlabel('colpos')"
      ],
      "metadata": {
        "colab": {
          "base_uri": "https://localhost:8080/",
          "height": 427
        },
        "id": "ZL2TkLQQkZK1",
        "outputId": "eb899f07-acf6-4970-8d92-e639e50565f9"
      },
      "execution_count": null,
      "outputs": [
        {
          "output_type": "execute_result",
          "data": {
            "text/plain": [
              "Text(0.5, 0, 'colpos')"
            ]
          },
          "metadata": {},
          "execution_count": 68
        },
        {
          "output_type": "display_data",
          "data": {
            "text/plain": [
              "<Figure size 640x480 with 1 Axes>"
            ],
            "image/png": "[encoded data removed]"
          },
          "metadata": {}
        }
      ]
    },
    {
      "cell_type": "markdown",
      "source": [
        "## Exercício"
      ],
      "metadata": {
        "id": "6yV51vx9oWiK"
      }
    },
    {
      "cell_type": "code",
      "source": [
        "# Baixando o arquivo de metadados\n",
        "downloaded = drive.CreateFile({'id': '1nlE1Lh5mV1jBEp-ZaBfoc6N3JInv93WY'})\n",
        "downloaded.GetContentFile('dados.csv')\n",
        "print(downloaded['title'], downloaded['mimeType'])\n",
        "\n",
        "dados = pd.read_csv(\"dados.csv\", sep=\";\")\n",
        "dados"
      ],
      "metadata": {
        "colab": {
          "base_uri": "https://localhost:8080/",
          "height": 441
        },
        "id": "yfXki3FZoWBh",
        "outputId": "182c4270-9fbb-4d2a-a8d5-e848cc51912c"
      },
      "execution_count": null,
      "outputs": [
        {
          "output_type": "stream",
          "name": "stdout",
          "text": [
            "dados.csv text/csv\n"
          ]
        },
        {
          "output_type": "execute_result",
          "data": {
            "text/plain": [
              "     CODIGO                MUNICIPIO       PIB  VALOREMPENHO\n",
              "0       106    SANTANA DO LIVRAMENTO  12240.76    1088666.10\n",
              "1       113             SANTO ANGELO  16575.82     800669.92\n",
              "2       118   SAO FRANCISCO DE ASSIS  12037.61     466122.80\n",
              "3        13          CACAPAVA DO SUL  13674.54     485535.86\n",
              "4       120              SAO GABRIEL  19912.38     533719.86\n",
              "..      ...                      ...       ...           ...\n",
              "182     372  SANTA VITORIA DO PALMAR  27170.89        760.00\n",
              "183     107     SANTA BARBARA DO SUL  29654.02        365.00\n",
              "184      54           GETULIO VARGAS  16876.33        233.01\n",
              "185     382          NOVA SANTA RITA  25938.38        310.58\n",
              "186      60      GUARANI DAS MISSOES  24363.31        172.13\n",
              "\n",
              "[187 rows x 4 columns]"
            ],
            "text/html": [
              "\n",
              "  <div id=\"df-aa2a14cd-3e6a-421c-bf64-e6b5fc62385f\">\n",
              "    <div class=\"colab-df-container\">\n",
              "      <div>\n",
              "<style scoped>\n",
              "    .dataframe tbody tr th:only-of-type {\n",
              "        vertical-align: middle;\n",
              "    }\n",
              "\n",
              "    .dataframe tbody tr th {\n",
              "        vertical-align: top;\n",
              "    }\n",
              "\n",
              "    .dataframe thead th {\n",
              "        text-align: right;\n",
              "    }\n",
              "</style>\n",
              "<table border=\"1\" class=\"dataframe\">\n",
              "  <thead>\n",
              "    <tr style=\"text-align: right;\">\n",
              "      <th></th>\n",
              "      <th>CODIGO</th>\n",
              "      <th>MUNICIPIO</th>\n",
              "      <th>PIB</th>\n",
              "      <th>VALOREMPENHO</th>\n",
              "    </tr>\n",
              "  </thead>\n",
              "  <tbody>\n",
              "    <tr>\n",
              "      <th>0</th>\n",
              "      <td>106</td>\n",
              "      <td>SANTANA DO LIVRAMENTO</td>\n",
              "      <td>12240.76</td>\n",
              "      <td>1088666.10</td>\n",
              "    </tr>\n",
              "    <tr>\n",
              "      <th>1</th>\n",
              "      <td>113</td>\n",
              "      <td>SANTO ANGELO</td>\n",
              "      <td>16575.82</td>\n",
              "      <td>800669.92</td>\n",
              "    </tr>\n",
              "    <tr>\n",
              "      <th>2</th>\n",
              "      <td>118</td>\n",
              "      <td>SAO FRANCISCO DE ASSIS</td>\n",
              "      <td>12037.61</td>\n",
              "      <td>466122.80</td>\n",
              "    </tr>\n",
              "    <tr>\n",
              "      <th>3</th>\n",
              "      <td>13</td>\n",
              "      <td>CACAPAVA DO SUL</td>\n",
              "      <td>13674.54</td>\n",
              "      <td>485535.86</td>\n",
              "    </tr>\n",
              "    <tr>\n",
              "      <th>4</th>\n",
              "      <td>120</td>\n",
              "      <td>SAO GABRIEL</td>\n",
              "      <td>19912.38</td>\n",
              "      <td>533719.86</td>\n",
              "    </tr>\n",
              "    <tr>\n",
              "      <th>...</th>\n",
              "      <td>...</td>\n",
              "      <td>...</td>\n",
              "      <td>...</td>\n",
              "      <td>...</td>\n",
              "    </tr>\n",
              "    <tr>\n",
              "      <th>182</th>\n",
              "      <td>372</td>\n",
              "      <td>SANTA VITORIA DO PALMAR</td>\n",
              "      <td>27170.89</td>\n",
              "      <td>760.00</td>\n",
              "    </tr>\n",
              "    <tr>\n",
              "      <th>183</th>\n",
              "      <td>107</td>\n",
              "      <td>SANTA BARBARA DO SUL</td>\n",
              "      <td>29654.02</td>\n",
              "      <td>365.00</td>\n",
              "    </tr>\n",
              "    <tr>\n",
              "      <th>184</th>\n",
              "      <td>54</td>\n",
              "      <td>GETULIO VARGAS</td>\n",
              "      <td>16876.33</td>\n",
              "      <td>233.01</td>\n",
              "    </tr>\n",
              "    <tr>\n",
              "      <th>185</th>\n",
              "      <td>382</td>\n",
              "      <td>NOVA SANTA RITA</td>\n",
              "      <td>25938.38</td>\n",
              "      <td>310.58</td>\n",
              "    </tr>\n",
              "    <tr>\n",
              "      <th>186</th>\n",
              "      <td>60</td>\n",
              "      <td>GUARANI DAS MISSOES</td>\n",
              "      <td>24363.31</td>\n",
              "      <td>172.13</td>\n",
              "    </tr>\n",
              "  </tbody>\n",
              "</table>\n",
              "<p>187 rows × 4 columns</p>\n",
              "</div>\n",
              "      <button class=\"colab-df-convert\" onclick=\"convertToInteractive('df-aa2a14cd-3e6a-421c-bf64-e6b5fc62385f')\"\n",
              "              title=\"Convert this dataframe to an interactive table.\"\n",
              "              style=\"display:none;\">\n",
              "        \n",
              "  <svg xmlns=\"http://www.w3.org/2000/svg\" height=\"24px\"viewBox=\"0 0 24 24\"\n",
              "       width=\"24px\">\n",
              "    <path d=\"M0 0h24v24H0V0z\" fill=\"none\"/>\n",
              "    <path d=\"M18.56 5.44l.94 2.06.94-2.06 2.06-.94-2.06-.94-.94-2.06-.94 2.06-2.06.94zm-11 1L8.5 8.5l.94-2.06 2.06-.94-2.06-.94L8.5 2.5l-.94 2.06-2.06.94zm10 10l.94 2.06.94-2.06 2.06-.94-2.06-.94-.94-2.06-.94 2.06-2.06.94z\"/><path d=\"M17.41 7.96l-1.37-1.37c-.4-.4-.92-.59-1.43-.59-.52 0-1.04.2-1.43.59L10.3 9.45l-7.72 7.72c-.78.78-.78 2.05 0 2.83L4 21.41c.39.39.9.59 1.41.59.51 0 1.02-.2 1.41-.59l7.78-7.78 2.81-2.81c.8-.78.8-2.07 0-2.86zM5.41 20L4 18.59l7.72-7.72 1.47 1.35L5.41 20z\"/>\n",
              "  </svg>\n",
              "      </button>\n",
              "      \n",
              "  <style>\n",
              "    .colab-df-container {\n",
              "      display:flex;\n",
              "      flex-wrap:wrap;\n",
              "      gap: 12px;\n",
              "    }\n",
              "\n",
              "    .colab-df-convert {\n",
              "      background-color: #E8F0FE;\n",
              "      border: none;\n",
              "      border-radius: 50%;\n",
              "      cursor: pointer;\n",
              "      display: none;\n",
              "      fill: #1967D2;\n",
              "      height: 32px;\n",
              "      padding: 0 0 0 0;\n",
              "      width: 32px;\n",
              "    }\n",
              "\n",
              "    .colab-df-convert:hover {\n",
              "      background-color: #E2EBFA;\n",
              "      box-shadow: 0px 1px 2px rgba(60, 64, 67, 0.3), 0px 1px 3px 1px rgba(60, 64, 67, 0.15);\n",
              "      fill: #174EA6;\n",
              "    }\n",
              "\n",
              "    [theme=dark] .colab-df-convert {\n",
              "      background-color: #3B4455;\n",
              "      fill: #D2E3FC;\n",
              "    }\n",
              "\n",
              "    [theme=dark] .colab-df-convert:hover {\n",
              "      background-color: #434B5C;\n",
              "      box-shadow: 0px 1px 3px 1px rgba(0, 0, 0, 0.15);\n",
              "      filter: drop-shadow(0px 1px 2px rgba(0, 0, 0, 0.3));\n",
              "      fill: #FFFFFF;\n",
              "    }\n",
              "  </style>\n",
              "\n",
              "      <script>\n",
              "        const buttonEl =\n",
              "          document.querySelector('#df-aa2a14cd-3e6a-421c-bf64-e6b5fc62385f button.colab-df-convert');\n",
              "        buttonEl.style.display =\n",
              "          google.colab.kernel.accessAllowed ? 'block' : 'none';\n",
              "\n",
              "        async function convertToInteractive(key) {\n",
              "          const element = document.querySelector('#df-aa2a14cd-3e6a-421c-bf64-e6b5fc62385f');\n",
              "          const dataTable =\n",
              "            await google.colab.kernel.invokeFunction('convertToInteractive',\n",
              "                                                     [key], {});\n",
              "          if (!dataTable) return;\n",
              "\n",
              "          const docLinkHtml = 'Like what you see? Visit the ' +\n",
              "            '<a target=\"_blank\" href=https://colab.research.google.com/notebooks/data_table.ipynb>data table notebook</a>'\n",
              "            + ' to learn more about interactive tables.';\n",
              "          element.innerHTML = '';\n",
              "          dataTable['output_type'] = 'display_data';\n",
              "          await google.colab.output.renderOutput(dataTable, element);\n",
              "          const docLink = document.createElement('div');\n",
              "          docLink.innerHTML = docLinkHtml;\n",
              "          element.appendChild(docLink);\n",
              "        }\n",
              "      </script>\n",
              "    </div>\n",
              "  </div>\n",
              "  "
            ]
          },
          "metadata": {},
          "execution_count": 74
        }
      ]
    },
    {
      "cell_type": "code",
      "source": [
        "dados.isnull().sum()"
      ],
      "metadata": {
        "colab": {
          "base_uri": "https://localhost:8080/"
        },
        "id": "YYUz9xlypbJA",
        "outputId": "b95363ea-f043-443a-8aac-a54b46f8b835"
      },
      "execution_count": null,
      "outputs": [
        {
          "output_type": "execute_result",
          "data": {
            "text/plain": [
              "CODIGO          0\n",
              "MUNICIPIO       0\n",
              "PIB             0\n",
              "VALOREMPENHO    0\n",
              "dtype: int64"
            ]
          },
          "metadata": {},
          "execution_count": 77
        }
      ]
    },
    {
      "cell_type": "code",
      "source": [
        "dados[\"CODIGO\"].duplicated().sum()\n",
        "dados_duplicados = dados.loc[dados[\"CODIGO\"].duplicated()== True]\n",
        "dados_duplicados"
      ],
      "metadata": {
        "colab": {
          "base_uri": "https://localhost:8080/",
          "height": 520
        },
        "id": "inc4eF7DzvPG",
        "outputId": "007b3c0c-47c5-4500-9b9b-fd795b5d76fa"
      },
      "execution_count": null,
      "outputs": [
        {
          "output_type": "execute_result",
          "data": {
            "text/plain": [
              "     CODIGO                  MUNICIPIO       PIB  VALOREMPENHO\n",
              "19      259    MONTE ALEGRE DOS CAMPOS  11961.10     208240.50\n",
              "21      259               CERRO BRANCO  12467.25     208240.50\n",
              "22      259    MONTE ALEGRE DOS CAMPOS  12467.25     208240.50\n",
              "42      141                    TAQUARA  13628.17     147767.38\n",
              "57      141    DOUTOR MAURICIO CARDOSO  18628.78     147767.38\n",
              "58      141                    TAQUARA  18628.78     147767.38\n",
              "83      378  SANTO ANTONIO DAS MISSOES  16581.60      97594.98\n",
              "94      378                  MULITERNO  19914.82      97594.98\n",
              "95      378  SANTO ANTONIO DAS MISSOES  19914.82      97594.98\n",
              "126     380  SANTO ANTONIO DO PLANALTO  18676.57      58868.19\n",
              "141     380             NOVA BOA VISTA  24509.74      58868.19\n",
              "142     380  SANTO ANTONIO DO PLANALTO  24509.74      58868.19\n",
              "180     372    SANTA VITORIA DO PALMAR  17213.98        760.00\n",
              "181     372                MATO LEITAO  27170.89        760.00\n",
              "182     372    SANTA VITORIA DO PALMAR  27170.89        760.00"
            ],
            "text/html": [
              "\n",
              "  <div id=\"df-cff27fe5-8bd8-4f90-a9d9-e6e0a82d9331\">\n",
              "    <div class=\"colab-df-container\">\n",
              "      <div>\n",
              "<style scoped>\n",
              "    .dataframe tbody tr th:only-of-type {\n",
              "        vertical-align: middle;\n",
              "    }\n",
              "\n",
              "    .dataframe tbody tr th {\n",
              "        vertical-align: top;\n",
              "    }\n",
              "\n",
              "    .dataframe thead th {\n",
              "        text-align: right;\n",
              "    }\n",
              "</style>\n",
              "<table border=\"1\" class=\"dataframe\">\n",
              "  <thead>\n",
              "    <tr style=\"text-align: right;\">\n",
              "      <th></th>\n",
              "      <th>CODIGO</th>\n",
              "      <th>MUNICIPIO</th>\n",
              "      <th>PIB</th>\n",
              "      <th>VALOREMPENHO</th>\n",
              "    </tr>\n",
              "  </thead>\n",
              "  <tbody>\n",
              "    <tr>\n",
              "      <th>19</th>\n",
              "      <td>259</td>\n",
              "      <td>MONTE ALEGRE DOS CAMPOS</td>\n",
              "      <td>11961.10</td>\n",
              "      <td>208240.50</td>\n",
              "    </tr>\n",
              "    <tr>\n",
              "      <th>21</th>\n",
              "      <td>259</td>\n",
              "      <td>CERRO BRANCO</td>\n",
              "      <td>12467.25</td>\n",
              "      <td>208240.50</td>\n",
              "    </tr>\n",
              "    <tr>\n",
              "      <th>22</th>\n",
              "      <td>259</td>\n",
              "      <td>MONTE ALEGRE DOS CAMPOS</td>\n",
              "      <td>12467.25</td>\n",
              "      <td>208240.50</td>\n",
              "    </tr>\n",
              "    <tr>\n",
              "      <th>42</th>\n",
              "      <td>141</td>\n",
              "      <td>TAQUARA</td>\n",
              "      <td>13628.17</td>\n",
              "      <td>147767.38</td>\n",
              "    </tr>\n",
              "    <tr>\n",
              "      <th>57</th>\n",
              "      <td>141</td>\n",
              "      <td>DOUTOR MAURICIO CARDOSO</td>\n",
              "      <td>18628.78</td>\n",
              "      <td>147767.38</td>\n",
              "    </tr>\n",
              "    <tr>\n",
              "      <th>58</th>\n",
              "      <td>141</td>\n",
              "      <td>TAQUARA</td>\n",
              "      <td>18628.78</td>\n",
              "      <td>147767.38</td>\n",
              "    </tr>\n",
              "    <tr>\n",
              "      <th>83</th>\n",
              "      <td>378</td>\n",
              "      <td>SANTO ANTONIO DAS MISSOES</td>\n",
              "      <td>16581.60</td>\n",
              "      <td>97594.98</td>\n",
              "    </tr>\n",
              "    <tr>\n",
              "      <th>94</th>\n",
              "      <td>378</td>\n",
              "      <td>MULITERNO</td>\n",
              "      <td>19914.82</td>\n",
              "      <td>97594.98</td>\n",
              "    </tr>\n",
              "    <tr>\n",
              "      <th>95</th>\n",
              "      <td>378</td>\n",
              "      <td>SANTO ANTONIO DAS MISSOES</td>\n",
              "      <td>19914.82</td>\n",
              "      <td>97594.98</td>\n",
              "    </tr>\n",
              "    <tr>\n",
              "      <th>126</th>\n",
              "      <td>380</td>\n",
              "      <td>SANTO ANTONIO DO PLANALTO</td>\n",
              "      <td>18676.57</td>\n",
              "      <td>58868.19</td>\n",
              "    </tr>\n",
              "    <tr>\n",
              "      <th>141</th>\n",
              "      <td>380</td>\n",
              "      <td>NOVA BOA VISTA</td>\n",
              "      <td>24509.74</td>\n",
              "      <td>58868.19</td>\n",
              "    </tr>\n",
              "    <tr>\n",
              "      <th>142</th>\n",
              "      <td>380</td>\n",
              "      <td>SANTO ANTONIO DO PLANALTO</td>\n",
              "      <td>24509.74</td>\n",
              "      <td>58868.19</td>\n",
              "    </tr>\n",
              "    <tr>\n",
              "      <th>180</th>\n",
              "      <td>372</td>\n",
              "      <td>SANTA VITORIA DO PALMAR</td>\n",
              "      <td>17213.98</td>\n",
              "      <td>760.00</td>\n",
              "    </tr>\n",
              "    <tr>\n",
              "      <th>181</th>\n",
              "      <td>372</td>\n",
              "      <td>MATO LEITAO</td>\n",
              "      <td>27170.89</td>\n",
              "      <td>760.00</td>\n",
              "    </tr>\n",
              "    <tr>\n",
              "      <th>182</th>\n",
              "      <td>372</td>\n",
              "      <td>SANTA VITORIA DO PALMAR</td>\n",
              "      <td>27170.89</td>\n",
              "      <td>760.00</td>\n",
              "    </tr>\n",
              "  </tbody>\n",
              "</table>\n",
              "</div>\n",
              "      <button class=\"colab-df-convert\" onclick=\"convertToInteractive('df-cff27fe5-8bd8-4f90-a9d9-e6e0a82d9331')\"\n",
              "              title=\"Convert this dataframe to an interactive table.\"\n",
              "              style=\"display:none;\">\n",
              "        \n",
              "  <svg xmlns=\"http://www.w3.org/2000/svg\" height=\"24px\"viewBox=\"0 0 24 24\"\n",
              "       width=\"24px\">\n",
              "    <path d=\"M0 0h24v24H0V0z\" fill=\"none\"/>\n",
              "    <path d=\"M18.56 5.44l.94 2.06.94-2.06 2.06-.94-2.06-.94-.94-2.06-.94 2.06-2.06.94zm-11 1L8.5 8.5l.94-2.06 2.06-.94-2.06-.94L8.5 2.5l-.94 2.06-2.06.94zm10 10l.94 2.06.94-2.06 2.06-.94-2.06-.94-.94-2.06-.94 2.06-2.06.94z\"/><path d=\"M17.41 7.96l-1.37-1.37c-.4-.4-.92-.59-1.43-.59-.52 0-1.04.2-1.43.59L10.3 9.45l-7.72 7.72c-.78.78-.78 2.05 0 2.83L4 21.41c.39.39.9.59 1.41.59.51 0 1.02-.2 1.41-.59l7.78-7.78 2.81-2.81c.8-.78.8-2.07 0-2.86zM5.41 20L4 18.59l7.72-7.72 1.47 1.35L5.41 20z\"/>\n",
              "  </svg>\n",
              "      </button>\n",
              "      \n",
              "  <style>\n",
              "    .colab-df-container {\n",
              "      display:flex;\n",
              "      flex-wrap:wrap;\n",
              "      gap: 12px;\n",
              "    }\n",
              "\n",
              "    .colab-df-convert {\n",
              "      background-color: #E8F0FE;\n",
              "      border: none;\n",
              "      border-radius: 50%;\n",
              "      cursor: pointer;\n",
              "      display: none;\n",
              "      fill: #1967D2;\n",
              "      height: 32px;\n",
              "      padding: 0 0 0 0;\n",
              "      width: 32px;\n",
              "    }\n",
              "\n",
              "    .colab-df-convert:hover {\n",
              "      background-color: #E2EBFA;\n",
              "      box-shadow: 0px 1px 2px rgba(60, 64, 67, 0.3), 0px 1px 3px 1px rgba(60, 64, 67, 0.15);\n",
              "      fill: #174EA6;\n",
              "    }\n",
              "\n",
              "    [theme=dark] .colab-df-convert {\n",
              "      background-color: #3B4455;\n",
              "      fill: #D2E3FC;\n",
              "    }\n",
              "\n",
              "    [theme=dark] .colab-df-convert:hover {\n",
              "      background-color: #434B5C;\n",
              "      box-shadow: 0px 1px 3px 1px rgba(0, 0, 0, 0.15);\n",
              "      filter: drop-shadow(0px 1px 2px rgba(0, 0, 0, 0.3));\n",
              "      fill: #FFFFFF;\n",
              "    }\n",
              "  </style>\n",
              "\n",
              "      <script>\n",
              "        const buttonEl =\n",
              "          document.querySelector('#df-cff27fe5-8bd8-4f90-a9d9-e6e0a82d9331 button.colab-df-convert');\n",
              "        buttonEl.style.display =\n",
              "          google.colab.kernel.accessAllowed ? 'block' : 'none';\n",
              "\n",
              "        async function convertToInteractive(key) {\n",
              "          const element = document.querySelector('#df-cff27fe5-8bd8-4f90-a9d9-e6e0a82d9331');\n",
              "          const dataTable =\n",
              "            await google.colab.kernel.invokeFunction('convertToInteractive',\n",
              "                                                     [key], {});\n",
              "          if (!dataTable) return;\n",
              "\n",
              "          const docLinkHtml = 'Like what you see? Visit the ' +\n",
              "            '<a target=\"_blank\" href=https://colab.research.google.com/notebooks/data_table.ipynb>data table notebook</a>'\n",
              "            + ' to learn more about interactive tables.';\n",
              "          element.innerHTML = '';\n",
              "          dataTable['output_type'] = 'display_data';\n",
              "          await google.colab.output.renderOutput(dataTable, element);\n",
              "          const docLink = document.createElement('div');\n",
              "          docLink.innerHTML = docLinkHtml;\n",
              "          element.appendChild(docLink);\n",
              "        }\n",
              "      </script>\n",
              "    </div>\n",
              "  </div>\n",
              "  "
            ]
          },
          "metadata": {},
          "execution_count": 85
        }
      ]
    },
    {
      "cell_type": "code",
      "source": [
        "plt.figure(1)\n",
        "plt.subplot(1,2,1)\n",
        "plt.boxplot(dados[\"PIB\"])\n",
        "plt.subplot(1,2,2)\n",
        "plt.boxplot(dados[\"VALOREMPENHO\"])"
      ],
      "metadata": {
        "colab": {
          "base_uri": "https://localhost:8080/",
          "height": 584
        },
        "id": "Xpbu5J_V0CuP",
        "outputId": "d289d50f-62ad-40fc-f102-888da8be3fa9"
      },
      "execution_count": null,
      "outputs": [
        {
          "output_type": "execute_result",
          "data": {
            "text/plain": [
              "{'whiskers': [<matplotlib.lines.Line2D at 0x7fe2a2c0a050>,\n",
              "  <matplotlib.lines.Line2D at 0x7fe2a2c0a2f0>],\n",
              " 'caps': [<matplotlib.lines.Line2D at 0x7fe2a2c0a590>,\n",
              "  <matplotlib.lines.Line2D at 0x7fe2a2c0a830>],\n",
              " 'boxes': [<matplotlib.lines.Line2D at 0x7fe2a2c09db0>],\n",
              " 'medians': [<matplotlib.lines.Line2D at 0x7fe2a2c0aad0>],\n",
              " 'fliers': [<matplotlib.lines.Line2D at 0x7fe2a2c0ad70>],\n",
              " 'means': []}"
            ]
          },
          "metadata": {},
          "execution_count": 91
        },
        {
          "output_type": "display_data",
          "data": {
            "text/plain": [
              "<Figure size 640x480 with 2 Axes>"
            ],
            "image/png": "[encoded data removed]"
          },
          "metadata": {}
        }
      ]
    },
    {
      "cell_type": "code",
      "source": [
        "plt.figure(1)\n",
        "plt.subplot(1,2,1)\n",
        "sns.histplot(dados[\"PIB\"])\n",
        "plt.subplot(1,2,2)\n",
        "sns.histplot(dados[\"VALOREMPENHO\"])"
      ],
      "metadata": {
        "colab": {
          "base_uri": "https://localhost:8080/",
          "height": 466
        },
        "id": "TtTUec_y9-uD",
        "outputId": "c4a3a958-0353-4d6a-8ea2-01aab912f545"
      },
      "execution_count": null,
      "outputs": [
        {
          "output_type": "execute_result",
          "data": {
            "text/plain": [
              "<Axes: xlabel='VALOREMPENHO', ylabel='Count'>"
            ]
          },
          "metadata": {},
          "execution_count": 97
        },
        {
          "output_type": "display_data",
          "data": {
            "text/plain": [
              "<Figure size 640x480 with 2 Axes>"
            ],
            "image/png": "[encoded data removed]"
          },
          "metadata": {}
        }
      ]
    },
    {
      "cell_type": "markdown",
      "source": [
        "# Estatística I"
      ],
      "metadata": {
        "id": "qXNI0ApaUWIl"
      }
    },
    {
      "cell_type": "markdown",
      "source": [
        "## Inferência\n",
        "\n",
        "Obter respostas sobre um fenômeno com dados representativos\n",
        "\n",
        "## Descritiva\n",
        "\n",
        "Organizar, demonstrar e resumir dados\n",
        "\n",
        "## Observação e Experimento\n",
        "\n",
        "- Observação: estuod em que os elementos analisados não são afetados\n",
        "\n",
        "- Experimentos: condições ou tratamentos são impostas a grupos\n",
        "\n",
        "##  Variáveis\n",
        "- Quantitativas - Numéricas:\n",
        "  - Contínuas: valores reais, podem assumir qualquer intervalo (Vendas, Peso, Distância)\n",
        "  - Discretas: números fixos, inteiro e num intervalo (quantidade de veículos em um estacionamento, quantidade de voltas em uma corrida)\n",
        "- Qualitativas - Categóricas:\n",
        "  - Nominais: categorias sem hierarquia (cores)\n",
        "  - Ordinais: categorias COM hierarquia (patente de um militar)"
      ],
      "metadata": {
        "id": "ZDEOp8_sVILM"
      }
    },
    {
      "cell_type": "markdown",
      "source": [
        "## Análise de dados exploratória (EDA)\n",
        "Busca obter informações sobre os dados:\n",
        "- Variação\n",
        "- Anomalias\n",
        "- Distribuição\n",
        "- Tendêncais\n",
        "- Padrões\n",
        "- Relações"
      ],
      "metadata": {
        "id": "QfvbJjdNXnd3"
      }
    },
    {
      "cell_type": "markdown",
      "source": [
        "## Amostragem\n",
        "\n",
        "- População: alvo do estudo\n",
        "- Amostra subconjunto da população\n",
        "- Censo: pesquisa com toda a população\n",
        "\n",
        "## Tipos de Amostras\n",
        "\n",
        "1. Amostras Aleatórias Simples\n",
        "  - Com reposição - pode voltar a ser amostras\n",
        "  - Sem resposição\n",
        "2. Amostra Estratificada\n",
        "  -  Divide a amostras de acordo com os estratos da população, isto é, mantém a proporção dos estratos da população na amostra\n",
        "3. Amostra Sistemática\n",
        "  - apresenta um constante no momento de selecionar os dados"
      ],
      "metadata": {
        "id": "uTVqq0AQYwK0"
      }
    },
    {
      "cell_type": "markdown",
      "source": [
        "## Centralidade\n",
        "\n",
        "- Média (influenciável por outliers)\n",
        "- Média Ponderada\n",
        "- Moda\n",
        "- Mediana\n",
        "\n",
        "## Variabilidade\n",
        "\n",
        "- Variância: demonstram a regularidade dos dados de acordo com a média\n",
        "- Desvio Padrão (quanto maior o valor, maior a variabilidade)\n",
        "- Amplitude\n",
        "- Quartil (Não Central):\n",
        "  - Q0: 0% (menor valor)\n",
        "  - Q1: 25%\n",
        "  - Q2: 50% = mediana\n",
        "  - Q3: 75%\n",
        "  - Q4: 100% (maior valor)\n",
        "\n",
        "- Desvio Padrão x Variância:\n",
        "  -  Desvio não se relaciona com o tamanho do valor, mas dos valores entre si\n",
        "  - Variância é influenciada por valores distantes\n"
      ],
      "metadata": {
        "id": "ZIBgNYcIaglL"
      }
    },
    {
      "cell_type": "markdown",
      "source": [
        "## Probabilidade\n",
        "- Exemplo:\n",
        "  - Jogar Moeda = Experimento\n",
        "  - Cara ou coroa = Espaço amostraç\n",
        "  - Deu coroa = Evento\n",
        "\n",
        "- Evento Excludente: o acontecimento de um elimina o outro\n",
        "- Evento Não Excludentes: podem ocorrer ao mesmo tempo\n",
        "- Eventos Dependentes: a probailidade de um afeta o outro\n",
        "- Eventos Inependentes: a probailidade de um afeta não afeta o outro\n",
        "\n"
      ],
      "metadata": {
        "id": "Ggc5wITkghHD"
      }
    },
    {
      "cell_type": "markdown",
      "source": [
        "## Passeio Aletório\n",
        "\n",
        "Eventos aleatórios, mas com resultados limitados\n",
        "\n",
        "## Ações e Investimentos\n",
        "\n",
        "Duas correntes de pensamento\n",
        " - Ações são um passeio aleatório, portanto imprevisíveis com Anáise Técnica - única maneira de ganhar é com alto risco\n",
        " - Comportamento das ações mantém apdro~es e tendências ao longo do tempo"
      ],
      "metadata": {
        "id": "8Ro1TZlLqnjF"
      }
    },
    {
      "cell_type": "markdown",
      "source": [
        "## Estocástico X Determinístico\n",
        "\n",
        "### Estocástico:\n",
        "- dada uma entrada, pode variar a saída\n",
        "\n",
        "### Determinístico:\n",
        "- dada uma entrada, a saída será sempre a mesma"
      ],
      "metadata": {
        "id": "ged5MHmv6d77"
      }
    },
    {
      "cell_type": "markdown",
      "source": [
        "## Distribuição\n",
        "\n",
        "### Distribuição Normal ou gaussiana( Padrão (Z))\n",
        "\n",
        "  - média = 0\n",
        "  - desvio padrão = 1\n",
        "  - **Z score**: quantos desvios padrão o valor está da média\n",
        "  - tabela Z: calcular o Z para saber quantos desvios padrões de distância\n",
        "  - Z = (X - u)/d -> Z-score equivale ao valor desejado, menos a média, todos divididos pelos desvios padrões\n",
        "  - Diagrama de Probabilidade Normal(qqplot): mostra a distribuição dos dados, se eles apresentam um tendência em diagonal, tendem a ser uma distribuição normal\n",
        "  - Teste de Shapiro-Wilk - indica se os dados estão normalmente distribuídos:\n",
        "    - p <= 0,05: rejeita a hipótese\n",
        "    - p > 0,05: aceita a hipótese"
      ],
      "metadata": {
        "id": "UuodJwLa6_Pi"
      }
    },
    {
      "cell_type": "markdown",
      "source": [
        "## Estatística Paramétrica\n",
        "Usada apenas quando os dados estão conforme a distribuição normal\n",
        "\n",
        ""
      ],
      "metadata": {
        "id": "arusXUxGwsKz"
      }
    },
    {
      "cell_type": "markdown",
      "source": [
        "# Prática em Estátistica"
      ],
      "metadata": {
        "id": "aEw21e6ByJMA"
      }
    },
    {
      "cell_type": "code",
      "source": [
        "# Baixando o arquivo de metadados\n",
        "downloaded = drive.CreateFile({'id': '1R7C_vW5PxOpqnOOJzNrMWtX6RNoWdnAS'})\n",
        "downloaded.GetContentFile('iris.csv')\n",
        "print(downloaded['title'], downloaded['mimeType'])\n",
        "iris = pd.read_csv(\"iris.csv\")"
      ],
      "metadata": {
        "colab": {
          "base_uri": "https://localhost:8080/"
        },
        "id": "3-W0Y3DiyXGP",
        "outputId": "a8cda3ae-228b-49dc-de9e-8fe0d2223b46"
      },
      "execution_count": null,
      "outputs": [
        {
          "output_type": "stream",
          "name": "stdout",
          "text": [
            "iris.csv text/csv\n"
          ]
        }
      ]
    },
    {
      "cell_type": "code",
      "source": [
        "# seeds pré-definidas com resultados aleatórios\n",
        "np.random.seed(2345)\n",
        "# gera 150 números aleatórios, entre 0 e 1, com possibilidade de reposição e com 70% de chance de ter 0 e 30% de ter 1\n",
        "amostra = np.random.choice(a=[0,1], size=150, replace=True, p=[0.7,0.3])\n",
        "amostra"
      ],
      "metadata": {
        "colab": {
          "base_uri": "https://localhost:8080/"
        },
        "id": "2eYJtJYpzx5h",
        "outputId": "b1598c72-9201-4174-c6a1-11b43361c64d"
      },
      "execution_count": null,
      "outputs": [
        {
          "output_type": "execute_result",
          "data": {
            "text/plain": [
              "array([0, 0, 0, 0, 1, 0, 0, 0, 1, 0, 0, 1, 0, 1, 0, 0, 1, 0, 1, 1, 1, 0,\n",
              "       0, 1, 1, 1, 0, 1, 0, 0, 1, 0, 0, 1, 1, 0, 1, 0, 0, 0, 1, 0, 1, 0,\n",
              "       0, 0, 0, 0, 0, 0, 1, 1, 0, 0, 0, 0, 0, 0, 0, 0, 0, 1, 0, 0, 1, 0,\n",
              "       0, 1, 0, 0, 1, 0, 0, 0, 0, 1, 0, 1, 0, 0, 1, 1, 0, 0, 0, 0, 0, 0,\n",
              "       0, 0, 0, 0, 1, 0, 1, 1, 1, 1, 1, 1, 0, 0, 0, 0, 0, 0, 0, 0, 1, 0,\n",
              "       0, 0, 0, 0, 0, 0, 0, 0, 1, 0, 0, 0, 0, 0, 1, 1, 1, 0, 1, 0, 1, 1,\n",
              "       1, 0, 0, 0, 0, 0, 0, 0, 0, 1, 1, 0, 0, 1, 1, 0, 0, 1])"
            ]
          },
          "metadata": {},
          "execution_count": 13
        }
      ]
    },
    {
      "cell_type": "code",
      "source": [
        "# seleciona as apenas as posições com valor 0\n",
        "base_final = iris.loc[amostra==0]\n",
        "base_final.shape"
      ],
      "metadata": {
        "colab": {
          "base_uri": "https://localhost:8080/"
        },
        "id": "Z-IqWSCs2Ict",
        "outputId": "7429c50d-e402-4d25-cba3-299de351d8b3"
      },
      "execution_count": null,
      "outputs": [
        {
          "output_type": "execute_result",
          "data": {
            "text/plain": [
              "(101, 5)"
            ]
          },
          "metadata": {},
          "execution_count": 14
        }
      ]
    },
    {
      "cell_type": "markdown",
      "source": [
        "## Amostragem Sistemática"
      ],
      "metadata": {
        "id": "3xMWc0Z23TVk"
      }
    },
    {
      "cell_type": "markdown",
      "source": [
        "Neste iremos selecionar um número entre 0 e 10 e depois ir pulando sistematicamente de 10 em 10"
      ],
      "metadata": {
        "id": "7xzyz4T55AUS"
      }
    },
    {
      "cell_type": "code",
      "source": [
        "from math import ceil"
      ],
      "metadata": {
        "id": "S_yy5pMz3XeQ"
      },
      "execution_count": null,
      "outputs": []
    },
    {
      "cell_type": "code",
      "source": [
        "populacao = len(iris)\n",
        "amostra = 15\n",
        "k = ceil(populacao / amostra)\n",
        "k"
      ],
      "metadata": {
        "colab": {
          "base_uri": "https://localhost:8080/"
        },
        "id": "TWTPGMPX3b4y",
        "outputId": "a992ae19-71c0-4388-fdf8-b597cc43fb9a"
      },
      "execution_count": null,
      "outputs": [
        {
          "output_type": "execute_result",
          "data": {
            "text/plain": [
              "10"
            ]
          },
          "metadata": {},
          "execution_count": 16
        }
      ]
    },
    {
      "cell_type": "code",
      "source": [
        "# Gera um valor aleatório toda vez que se roda\n",
        "r = np.random.randint(low = 1, high = k+1, size = 1)\n",
        "print(r)"
      ],
      "metadata": {
        "colab": {
          "base_uri": "https://localhost:8080/"
        },
        "id": "hozWD5Nh3v4T",
        "outputId": "afcfa584-5c44-45d4-a689-472173015b27"
      },
      "execution_count": null,
      "outputs": [
        {
          "output_type": "stream",
          "name": "stdout",
          "text": [
            "[9]\n"
          ]
        }
      ]
    },
    {
      "cell_type": "code",
      "source": [
        "acumulador = r[0]\n",
        "sorteados = []\n",
        "for i in range(amostra):\n",
        "  sorteados.append(acumulador)\n",
        "  acumulador += k\n",
        "sorteados"
      ],
      "metadata": {
        "colab": {
          "base_uri": "https://localhost:8080/"
        },
        "id": "0ikgoPBG4LFs",
        "outputId": "2a842e7d-60ae-4a35-e165-346c4240e208"
      },
      "execution_count": null,
      "outputs": [
        {
          "output_type": "execute_result",
          "data": {
            "text/plain": [
              "[9, 19, 29, 39, 49, 59, 69, 79, 89, 99, 109, 119, 129, 139, 149]"
            ]
          },
          "metadata": {},
          "execution_count": 30
        }
      ]
    },
    {
      "cell_type": "code",
      "source": [
        "iris = pd.read_csv('iris.csv')\n",
        "base_final = iris.loc[sorteados]\n",
        "base_final"
      ],
      "metadata": {
        "id": "OtY-Yb8Q4v_Z"
      },
      "execution_count": null,
      "outputs": []
    },
    {
      "cell_type": "markdown",
      "source": [
        "## Amostragem Estratificada"
      ],
      "metadata": {
        "id": "gW75x1ja5LDF"
      }
    },
    {
      "cell_type": "code",
      "source": [
        "from sklearn.model_selection import train_test_split"
      ],
      "metadata": {
        "id": "9oY7oBpk5NYz"
      },
      "execution_count": null,
      "outputs": []
    },
    {
      "cell_type": "code",
      "source": [
        "# conta a quantidade de quem de cada valor único da base de dados\n",
        "iris = pd.read_csv('iris.csv')\n",
        "iris['class'].value_counts()"
      ],
      "metadata": {
        "colab": {
          "base_uri": "https://localhost:8080/",
          "height": 424
        },
        "id": "brUn55wq5Vq1",
        "outputId": "b8c54aad-1272-42a1-bd7b-1625ae2e5693"
      },
      "execution_count": null,
      "outputs": [
        {
          "output_type": "execute_result",
          "data": {
            "text/plain": [
              "     sepal length  sepal width  petal length  petal width           class\n",
              "0             5.1          3.5           1.4          0.2     Iris-setosa\n",
              "1             4.9          3.0           1.4          0.2     Iris-setosa\n",
              "2             4.7          3.2           1.3          0.2     Iris-setosa\n",
              "3             4.6          3.1           1.5          0.2     Iris-setosa\n",
              "4             5.0          3.6           1.4          0.2     Iris-setosa\n",
              "..            ...          ...           ...          ...             ...\n",
              "145           6.7          3.0           5.2          2.3  Iris-virginica\n",
              "146           6.3          2.5           5.0          1.9  Iris-virginica\n",
              "147           6.5          3.0           5.2          2.0  Iris-virginica\n",
              "148           6.2          3.4           5.4          2.3  Iris-virginica\n",
              "149           5.9          3.0           5.1          1.8  Iris-virginica\n",
              "\n",
              "[150 rows x 5 columns]"
            ],
            "text/html": [
              "\n",
              "  <div id=\"df-db235ce6-749f-4b93-aa42-84b3a00f997c\">\n",
              "    <div class=\"colab-df-container\">\n",
              "      <div>\n",
              "<style scoped>\n",
              "    .dataframe tbody tr th:only-of-type {\n",
              "        vertical-align: middle;\n",
              "    }\n",
              "\n",
              "    .dataframe tbody tr th {\n",
              "        vertical-align: top;\n",
              "    }\n",
              "\n",
              "    .dataframe thead th {\n",
              "        text-align: right;\n",
              "    }\n",
              "</style>\n",
              "<table border=\"1\" class=\"dataframe\">\n",
              "  <thead>\n",
              "    <tr style=\"text-align: right;\">\n",
              "      <th></th>\n",
              "      <th>sepal length</th>\n",
              "      <th>sepal width</th>\n",
              "      <th>petal length</th>\n",
              "      <th>petal width</th>\n",
              "      <th>class</th>\n",
              "    </tr>\n",
              "  </thead>\n",
              "  <tbody>\n",
              "    <tr>\n",
              "      <th>0</th>\n",
              "      <td>5.1</td>\n",
              "      <td>3.5</td>\n",
              "      <td>1.4</td>\n",
              "      <td>0.2</td>\n",
              "      <td>Iris-setosa</td>\n",
              "    </tr>\n",
              "    <tr>\n",
              "      <th>1</th>\n",
              "      <td>4.9</td>\n",
              "      <td>3.0</td>\n",
              "      <td>1.4</td>\n",
              "      <td>0.2</td>\n",
              "      <td>Iris-setosa</td>\n",
              "    </tr>\n",
              "    <tr>\n",
              "      <th>2</th>\n",
              "      <td>4.7</td>\n",
              "      <td>3.2</td>\n",
              "      <td>1.3</td>\n",
              "      <td>0.2</td>\n",
              "      <td>Iris-setosa</td>\n",
              "    </tr>\n",
              "    <tr>\n",
              "      <th>3</th>\n",
              "      <td>4.6</td>\n",
              "      <td>3.1</td>\n",
              "      <td>1.5</td>\n",
              "      <td>0.2</td>\n",
              "      <td>Iris-setosa</td>\n",
              "    </tr>\n",
              "    <tr>\n",
              "      <th>4</th>\n",
              "      <td>5.0</td>\n",
              "      <td>3.6</td>\n",
              "      <td>1.4</td>\n",
              "      <td>0.2</td>\n",
              "      <td>Iris-setosa</td>\n",
              "    </tr>\n",
              "    <tr>\n",
              "      <th>...</th>\n",
              "      <td>...</td>\n",
              "      <td>...</td>\n",
              "      <td>...</td>\n",
              "      <td>...</td>\n",
              "      <td>...</td>\n",
              "    </tr>\n",
              "    <tr>\n",
              "      <th>145</th>\n",
              "      <td>6.7</td>\n",
              "      <td>3.0</td>\n",
              "      <td>5.2</td>\n",
              "      <td>2.3</td>\n",
              "      <td>Iris-virginica</td>\n",
              "    </tr>\n",
              "    <tr>\n",
              "      <th>146</th>\n",
              "      <td>6.3</td>\n",
              "      <td>2.5</td>\n",
              "      <td>5.0</td>\n",
              "      <td>1.9</td>\n",
              "      <td>Iris-virginica</td>\n",
              "    </tr>\n",
              "    <tr>\n",
              "      <th>147</th>\n",
              "      <td>6.5</td>\n",
              "      <td>3.0</td>\n",
              "      <td>5.2</td>\n",
              "      <td>2.0</td>\n",
              "      <td>Iris-virginica</td>\n",
              "    </tr>\n",
              "    <tr>\n",
              "      <th>148</th>\n",
              "      <td>6.2</td>\n",
              "      <td>3.4</td>\n",
              "      <td>5.4</td>\n",
              "      <td>2.3</td>\n",
              "      <td>Iris-virginica</td>\n",
              "    </tr>\n",
              "    <tr>\n",
              "      <th>149</th>\n",
              "      <td>5.9</td>\n",
              "      <td>3.0</td>\n",
              "      <td>5.1</td>\n",
              "      <td>1.8</td>\n",
              "      <td>Iris-virginica</td>\n",
              "    </tr>\n",
              "  </tbody>\n",
              "</table>\n",
              "<p>150 rows × 5 columns</p>\n",
              "</div>\n",
              "      <button class=\"colab-df-convert\" onclick=\"convertToInteractive('df-db235ce6-749f-4b93-aa42-84b3a00f997c')\"\n",
              "              title=\"Convert this dataframe to an interactive table.\"\n",
              "              style=\"display:none;\">\n",
              "        \n",
              "  <svg xmlns=\"http://www.w3.org/2000/svg\" height=\"24px\"viewBox=\"0 0 24 24\"\n",
              "       width=\"24px\">\n",
              "    <path d=\"M0 0h24v24H0V0z\" fill=\"none\"/>\n",
              "    <path d=\"M18.56 5.44l.94 2.06.94-2.06 2.06-.94-2.06-.94-.94-2.06-.94 2.06-2.06.94zm-11 1L8.5 8.5l.94-2.06 2.06-.94-2.06-.94L8.5 2.5l-.94 2.06-2.06.94zm10 10l.94 2.06.94-2.06 2.06-.94-2.06-.94-.94-2.06-.94 2.06-2.06.94z\"/><path d=\"M17.41 7.96l-1.37-1.37c-.4-.4-.92-.59-1.43-.59-.52 0-1.04.2-1.43.59L10.3 9.45l-7.72 7.72c-.78.78-.78 2.05 0 2.83L4 21.41c.39.39.9.59 1.41.59.51 0 1.02-.2 1.41-.59l7.78-7.78 2.81-2.81c.8-.78.8-2.07 0-2.86zM5.41 20L4 18.59l7.72-7.72 1.47 1.35L5.41 20z\"/>\n",
              "  </svg>\n",
              "      </button>\n",
              "      \n",
              "  <style>\n",
              "    .colab-df-container {\n",
              "      display:flex;\n",
              "      flex-wrap:wrap;\n",
              "      gap: 12px;\n",
              "    }\n",
              "\n",
              "    .colab-df-convert {\n",
              "      background-color: #E8F0FE;\n",
              "      border: none;\n",
              "      border-radius: 50%;\n",
              "      cursor: pointer;\n",
              "      display: none;\n",
              "      fill: #1967D2;\n",
              "      height: 32px;\n",
              "      padding: 0 0 0 0;\n",
              "      width: 32px;\n",
              "    }\n",
              "\n",
              "    .colab-df-convert:hover {\n",
              "      background-color: #E2EBFA;\n",
              "      box-shadow: 0px 1px 2px rgba(60, 64, 67, 0.3), 0px 1px 3px 1px rgba(60, 64, 67, 0.15);\n",
              "      fill: #174EA6;\n",
              "    }\n",
              "\n",
              "    [theme=dark] .colab-df-convert {\n",
              "      background-color: #3B4455;\n",
              "      fill: #D2E3FC;\n",
              "    }\n",
              "\n",
              "    [theme=dark] .colab-df-convert:hover {\n",
              "      background-color: #434B5C;\n",
              "      box-shadow: 0px 1px 3px 1px rgba(0, 0, 0, 0.15);\n",
              "      filter: drop-shadow(0px 1px 2px rgba(0, 0, 0, 0.3));\n",
              "      fill: #FFFFFF;\n",
              "    }\n",
              "  </style>\n",
              "\n",
              "      <script>\n",
              "        const buttonEl =\n",
              "          document.querySelector('#df-db235ce6-749f-4b93-aa42-84b3a00f997c button.colab-df-convert');\n",
              "        buttonEl.style.display =\n",
              "          google.colab.kernel.accessAllowed ? 'block' : 'none';\n",
              "\n",
              "        async function convertToInteractive(key) {\n",
              "          const element = document.querySelector('#df-db235ce6-749f-4b93-aa42-84b3a00f997c');\n",
              "          const dataTable =\n",
              "            await google.colab.kernel.invokeFunction('convertToInteractive',\n",
              "                                                     [key], {});\n",
              "          if (!dataTable) return;\n",
              "\n",
              "          const docLinkHtml = 'Like what you see? Visit the ' +\n",
              "            '<a target=\"_blank\" href=https://colab.research.google.com/notebooks/data_table.ipynb>data table notebook</a>'\n",
              "            + ' to learn more about interactive tables.';\n",
              "          element.innerHTML = '';\n",
              "          dataTable['output_type'] = 'display_data';\n",
              "          await google.colab.output.renderOutput(dataTable, element);\n",
              "          const docLink = document.createElement('div');\n",
              "          docLink.innerHTML = docLinkHtml;\n",
              "          element.appendChild(docLink);\n",
              "        }\n",
              "      </script>\n",
              "    </div>\n",
              "  </div>\n",
              "  "
            ]
          },
          "metadata": {},
          "execution_count": 36
        }
      ]
    },
    {
      "cell_type": "code",
      "source": [
        "# iris.iloc[:,0:4] selecionas as colunas com os valores independentes, que vão servir de base para definir o outro\n",
        "# iris.iloc[:,4] coluna com os valores que se deseja saber os resltados, em outras palavras é a variável dependente\n",
        "x, _, y, _ = train_test_split(iris.iloc[:, 0:4], iris.iloc[:,4],\n",
        "                              test_size = 0.5, stratify = iris.iloc[:,4])\n",
        "y.value_counts()"
      ],
      "metadata": {
        "colab": {
          "base_uri": "https://localhost:8080/"
        },
        "id": "lbdSLfTX56gI",
        "outputId": "fbbef8cc-2b34-423d-8b68-65b50d39aede"
      },
      "execution_count": null,
      "outputs": [
        {
          "output_type": "execute_result",
          "data": {
            "text/plain": [
              "Iris-setosa        25\n",
              "Iris-versicolor    25\n",
              "Iris-virginica     25\n",
              "Name: class, dtype: int64"
            ]
          },
          "metadata": {},
          "execution_count": 44
        }
      ]
    },
    {
      "cell_type": "markdown",
      "source": [
        "## Medidas de Centralidade"
      ],
      "metadata": {
        "id": "WP52nsL_F0h9"
      }
    },
    {
      "cell_type": "code",
      "source": [
        "from scipy import stats\n",
        "x = [1,2,3,3,6,12,15,30,60,70]\n",
        "\n",
        "# Média\n",
        "print(np.mean(x))\n",
        "\n",
        "# Mediana\n",
        "print(np.median(x))\n",
        "\n",
        "# Quartil\n",
        "print(np.quantile(x, [0,0.25,0.50,0.75,1]))\n",
        "\n",
        "# Média\n",
        "print(np.std(x, ddof = 1))"
      ],
      "metadata": {
        "colab": {
          "base_uri": "https://localhost:8080/"
        },
        "id": "vX9nr3g-F24c",
        "outputId": "57a05289-4721-4c60-a046-240a675a56b1"
      },
      "execution_count": null,
      "outputs": [
        {
          "output_type": "stream",
          "name": "stdout",
          "text": [
            "20.2\n",
            "9.0\n",
            "[ 1.    3.    9.   26.25 70.  ]\n",
            "25.27097588583041\n"
          ]
        }
      ]
    },
    {
      "cell_type": "code",
      "source": [
        "print(stats.describe(x))"
      ],
      "metadata": {
        "colab": {
          "base_uri": "https://localhost:8080/"
        },
        "id": "qrpjsq5FHH_f",
        "outputId": "e9d4a9f9-6d80-4d78-8465-e2ec61807c40"
      },
      "execution_count": null,
      "outputs": [
        {
          "output_type": "stream",
          "name": "stdout",
          "text": [
            "DescribeResult(nobs=10, minmax=(1, 70), mean=20.2, variance=638.6222222222221, skewness=1.1658965277979294, kurtosis=-0.23456941625009176)\n"
          ]
        }
      ]
    },
    {
      "cell_type": "markdown",
      "source": [
        "## Distribuição Normal"
      ],
      "metadata": {
        "id": "a3-J8HYqHSlS"
      }
    },
    {
      "cell_type": "code",
      "source": [
        "from scipy.stats import norm"
      ],
      "metadata": {
        "id": "_HlyUeHvHUzB"
      },
      "execution_count": null,
      "outputs": []
    },
    {
      "cell_type": "code",
      "source": [
        "# 6 é o valor desejado, 8 é a média e 2 é o desvio padrão\n",
        "# cdf calcula a probabilidade de tirar um valor menor ou igual que o valor desejado\n",
        "norm.cdf(6,8,2)"
      ],
      "metadata": {
        "colab": {
          "base_uri": "https://localhost:8080/"
        },
        "id": "Bg4y1keeHaLf",
        "outputId": "7ca933f5-6ad9-4e98-f8c2-84b5b8bfa67a"
      },
      "execution_count": null,
      "outputs": [
        {
          "output_type": "execute_result",
          "data": {
            "text/plain": [
              "0.15865525393145707"
            ]
          },
          "metadata": {},
          "execution_count": 56
        }
      ]
    },
    {
      "cell_type": "code",
      "source": [
        "# sf calcula a probabilidade de tirar um valor maior ou igual que o valor desejado\n",
        "norm.sf(6,8,2)"
      ],
      "metadata": {
        "colab": {
          "base_uri": "https://localhost:8080/"
        },
        "id": "cqo-XAjEH-Wi",
        "outputId": "2bd31c3b-7715-4d52-e7ce-c6b31c3c5b98"
      },
      "execution_count": null,
      "outputs": [
        {
          "output_type": "execute_result",
          "data": {
            "text/plain": [
              "0.8413447460685429"
            ]
          },
          "metadata": {},
          "execution_count": 57
        }
      ]
    },
    {
      "cell_type": "code",
      "source": [
        "# probabilidade menor que 6 e menor que 10\n",
        "norm.cdf(6,8,2) + norm.sf(10,8,2)"
      ],
      "metadata": {
        "colab": {
          "base_uri": "https://localhost:8080/"
        },
        "id": "F-ji-IiJIWcY",
        "outputId": "01cb03b5-1640-45d3-9585-8d034657d082"
      },
      "execution_count": null,
      "outputs": [
        {
          "output_type": "execute_result",
          "data": {
            "text/plain": [
              "0.31731050786291415"
            ]
          },
          "metadata": {},
          "execution_count": 59
        }
      ]
    },
    {
      "cell_type": "markdown",
      "source": [
        "## Teste de Normalidade"
      ],
      "metadata": {
        "id": "PQwuU2mAIt60"
      }
    },
    {
      "cell_type": "code",
      "source": [
        "from scipy.stats import norm, skewnorm\n",
        "from scipy import stats\n",
        "import matplotlib.pyplot as plt"
      ],
      "metadata": {
        "id": "w7mO_p9IItiH"
      },
      "execution_count": null,
      "outputs": []
    },
    {
      "cell_type": "code",
      "source": [
        "dados = norm.rvs(size = 1000)\n",
        "dados"
      ],
      "metadata": {
        "colab": {
          "base_uri": "https://localhost:8080/"
        },
        "id": "j7Wp81RTMhBQ",
        "outputId": "4fc26c5d-3cef-47e9-b97f-be8d194eadbe"
      },
      "execution_count": null,
      "outputs": [
        {
          "output_type": "execute_result",
          "data": {
            "text/plain": [
              "array([-2.23320628e-01, -6.51327550e-02,  1.26899088e-01,  2.77483782e-01,\n",
              "        9.01171723e-01,  6.07129195e-01, -1.11869749e+00, -6.49744890e-01,\n",
              "       -2.45634273e-01, -9.58782807e-01,  9.03977267e-01, -3.13781246e-01,\n",
              "       -7.20583752e-01, -9.53760869e-01,  1.07674916e-01, -6.55948768e-01,\n",
              "        9.28923565e-01,  5.18083643e-01,  1.07300312e+00,  2.26026730e+00,\n",
              "       -1.75239117e+00,  7.11763771e-01,  8.24496995e-01, -7.18316321e-02,\n",
              "       -2.36121925e+00, -7.61847588e-01,  4.37872388e-01, -2.42352258e-01,\n",
              "        4.68384935e-01,  1.03416653e+00,  3.50156450e-02,  4.65779801e-01,\n",
              "        1.19719172e+00, -1.76189694e-01,  5.73122819e-02,  6.64281813e-01,\n",
              "       -1.33590605e+00,  1.50289068e+00,  2.36100145e-01,  7.41882216e-02,\n",
              "        9.19258523e-02, -2.71984440e-01, -6.77625055e-01, -6.45687527e-01,\n",
              "       -1.15735522e-01,  1.82661999e-01, -1.51310698e+00,  1.45089971e+00,\n",
              "       -8.35232287e-03, -1.96835461e+00,  3.86665218e-01,  1.03756862e+00,\n",
              "        1.31817507e+00, -3.55931780e-01,  1.52740987e+00, -5.11663059e-01,\n",
              "        1.04135282e+00,  2.93527324e-01, -3.10463066e-02,  1.57197218e+00,\n",
              "       -3.44378418e-01,  7.89640738e-01,  4.56254845e-01, -4.43823694e-01,\n",
              "       -2.07536734e-01,  3.45612173e-01,  1.44686770e+00,  7.29286456e-01,\n",
              "       -2.62205758e-01,  4.66388077e-01, -1.05013292e-01,  3.81701746e-01,\n",
              "       -7.34324325e-01, -4.27828755e-01,  2.93239575e+00, -2.23960421e-02,\n",
              "        1.40305060e+00,  4.09186875e-01, -2.73664340e-01, -2.06480269e-01,\n",
              "       -5.53970805e-02, -3.87038702e-01, -1.36006386e+00,  5.46855873e-01,\n",
              "        1.13451513e+00,  8.98234273e-01, -1.58877510e+00, -8.27865119e-02,\n",
              "       -1.24445648e-01, -8.93972846e-01,  1.29663279e+00, -2.05035140e+00,\n",
              "        7.74147830e-01, -6.65069621e-01, -1.61364589e+00,  7.59081352e-01,\n",
              "        3.76963234e-01,  2.72540657e-01, -9.61387777e-01, -2.41553204e-01,\n",
              "       -4.80554127e-01,  6.92849459e-01, -5.08737647e-01, -1.09828187e-01,\n",
              "        5.98426800e-01,  4.60503763e-01, -5.58851497e-01,  5.34269023e-01,\n",
              "       -4.73809058e-01, -1.57598829e+00, -7.83501881e-01,  9.45359687e-01,\n",
              "       -3.59933145e-01,  2.84490098e+00, -1.50828821e-01, -1.02699719e+00,\n",
              "        4.02437689e-01,  1.91760730e+00, -7.99313103e-01,  2.54671270e-01,\n",
              "       -8.65234068e-01,  1.54008041e-01,  2.06048252e-01, -3.23844468e-01,\n",
              "       -6.00533192e-01,  1.49306819e+00, -1.12618711e+00, -1.53630240e+00,\n",
              "       -7.49980517e-01, -2.98738364e-01, -1.27140411e-01, -6.82969830e-01,\n",
              "        2.43298971e-01, -6.22944678e-01, -1.17858147e+00, -3.74645459e-01,\n",
              "       -3.78942323e-01, -5.73744915e-01,  1.28611689e+00,  1.39597820e+00,\n",
              "       -7.93407386e-01, -2.06141101e+00, -9.20571934e-01, -1.86888940e+00,\n",
              "       -3.33572299e-01, -1.31402782e+00, -1.99651450e+00,  3.05505902e-01,\n",
              "       -7.84752279e-01, -9.83918454e-01, -2.79933752e-01,  1.27168669e+00,\n",
              "        1.35525898e+00,  9.06441939e-01, -6.00544805e-01, -8.28133694e-02,\n",
              "       -7.55633712e-01, -3.65250744e-01, -7.37840684e-01, -8.98616674e-01,\n",
              "        3.15522843e-01, -8.70839751e-02,  1.27631424e+00,  1.50384174e+00,\n",
              "        1.00050088e+00, -8.96387637e-01,  9.82119244e-01, -1.34089421e+00,\n",
              "       -2.05649503e-01, -4.39757873e-01, -1.52111365e-02, -1.28398651e+00,\n",
              "        1.65992627e-02, -9.02220551e-01, -5.04430354e-01, -1.51438503e+00,\n",
              "       -3.51697987e-01,  1.93933684e+00, -2.06403320e+00,  1.75208639e+00,\n",
              "       -1.15775694e+00,  3.91824630e-01,  4.50156489e-01,  3.84519732e-01,\n",
              "       -3.29255608e-01,  4.34980888e-01, -2.57265733e-01, -2.18554510e-01,\n",
              "        1.28460966e+00, -1.02368514e+00, -3.46786785e-01, -1.85847238e+00,\n",
              "        1.57262302e+00, -7.94159089e-01, -1.79353055e-01,  3.18444292e-01,\n",
              "       -1.10905733e+00,  5.22083235e-01,  1.08048587e+00,  2.46988905e-01,\n",
              "       -3.98743958e-02, -4.08759605e-03,  1.85834502e+00,  1.77037603e+00,\n",
              "        2.05032419e-01,  1.11148462e+00,  8.27891068e-01,  1.56819625e+00,\n",
              "        8.88708096e-01,  1.04975672e+00,  1.57167006e+00,  1.09322280e+00,\n",
              "        5.17679705e-01,  4.17142397e-01,  2.93941777e-01, -2.89470721e-01,\n",
              "       -2.36819000e+00,  1.16590663e+00, -1.52853389e+00,  7.88999828e-01,\n",
              "       -3.91519747e-01,  6.64483944e-01,  7.41824133e-01, -1.20526669e-01,\n",
              "       -1.02099366e+00,  1.07593703e+00,  6.00018819e-01, -7.69869487e-01,\n",
              "        8.00816558e-01,  1.71042043e+00,  6.67731422e-02,  1.07512644e+00,\n",
              "        5.13705890e-01, -1.47068940e-01, -6.28413370e-01,  1.91314056e-01,\n",
              "       -9.88001548e-01, -9.82361440e-01, -1.57477052e+00,  2.87490159e-01,\n",
              "       -4.53511698e-01,  3.34678897e-01,  1.71184457e+00,  4.82851908e-01,\n",
              "       -7.23612689e-01,  4.71933047e-01,  2.95403755e-01,  8.80971145e-01,\n",
              "        1.16738778e+00, -1.22958388e-02,  6.06261095e-01,  9.57834609e-01,\n",
              "       -1.45199492e+00, -1.43996991e+00,  5.59379495e-01,  2.84154320e-01,\n",
              "       -9.28973405e-01,  1.64833775e+00, -1.02745919e-01,  1.60053417e-01,\n",
              "        8.49023313e-03,  2.45283014e+00,  5.23534137e-01,  1.54308502e-01,\n",
              "       -1.50641582e+00, -1.48578470e+00, -4.20497360e-01, -9.31568310e-03,\n",
              "       -6.53324951e-01, -1.67991816e+00,  8.16005174e-01,  5.53999943e-02,\n",
              "        4.29237370e-02, -4.66413701e-01,  1.81769812e+00, -6.34044211e-01,\n",
              "       -5.77654057e-01, -7.46322280e-01, -1.86423860e+00, -3.26593364e-01,\n",
              "       -7.42493224e-01,  2.62848271e-01, -1.09815870e+00, -2.99771029e-01,\n",
              "       -1.47250899e+00, -5.89789616e-01,  1.00764599e+00, -3.22526715e-01,\n",
              "        1.78009866e-03, -9.76480162e-01,  6.74262038e-02,  3.26814289e-01,\n",
              "        1.06388615e+00, -7.66072398e-01, -7.65273308e-01,  1.55960922e-01,\n",
              "        1.81955005e-01, -1.29738298e-01, -8.90344512e-01,  7.65034699e-01,\n",
              "        1.68367861e+00, -4.00696691e-01,  1.29379605e-01,  5.75398150e-01,\n",
              "        4.49769516e-01,  2.04213385e+00,  8.73361521e-01,  8.67818245e-01,\n",
              "       -1.36167664e+00, -6.94312973e-01,  2.09450223e-02, -4.54739088e-01,\n",
              "        1.15680615e-01,  3.43586620e-01, -1.11882034e-01,  2.40744881e+00,\n",
              "        6.59176098e-01,  1.80341357e+00, -9.56012994e-02,  1.05690350e+00,\n",
              "        1.03136955e-01,  8.61328808e-01,  1.78548367e+00,  2.00073285e-01,\n",
              "        1.41769941e+00, -2.22085635e-01,  4.66518020e-01,  1.10276315e+00,\n",
              "       -1.31202073e+00,  7.47016570e-01, -1.73367293e+00,  5.82553180e-02,\n",
              "       -4.57518970e-01, -8.94741946e-01, -7.31710459e-01, -7.55731386e-02,\n",
              "        2.18587792e+00, -1.03008922e+00, -1.09746350e+00, -9.24019559e-01,\n",
              "        6.92594430e-01, -3.25354318e+00,  8.72118875e-01,  1.93033707e+00,\n",
              "       -1.70544882e+00, -9.70060326e-01, -1.27251808e+00, -1.53190927e+00,\n",
              "       -1.12212291e+00,  2.47368776e+00, -1.02153450e+00, -6.14806139e-01,\n",
              "       -1.81265402e+00, -1.02928304e+00,  1.26763598e+00, -2.19356213e-01,\n",
              "        3.13714825e-01, -4.72459010e-01,  8.07353010e-01,  3.51251408e-01,\n",
              "        7.18105893e-01,  8.22025495e-01,  6.50506594e-01,  3.09933974e-01,\n",
              "        2.82463932e-01,  1.43622088e+00,  1.18691734e+00, -2.36107719e-01,\n",
              "       -5.70041427e-01,  1.03997137e+00, -2.19572825e-01, -2.39098247e-01,\n",
              "        6.99144962e-01,  1.62542659e+00, -9.83915040e-01, -9.75626217e-01,\n",
              "       -5.00907265e-01,  5.85901018e-01, -2.32755140e-02, -1.63663908e+00,\n",
              "        1.79464386e+00, -1.21270495e-01,  3.73761241e-01,  2.65293973e-01,\n",
              "       -8.10349915e-01, -9.23623375e-02, -1.31333959e+00,  1.37479450e+00,\n",
              "       -4.77433402e-01,  1.46331280e-01,  3.61065009e-01,  1.51652987e+00,\n",
              "        9.63488844e-01,  4.54716759e-01,  1.18588731e+00, -1.10364838e+00,\n",
              "       -3.55173821e-01, -5.48320288e-01,  1.16496247e+00,  5.20055725e-01,\n",
              "        1.51989500e+00, -9.25958855e-01,  6.26953717e-01,  2.12663769e-02,\n",
              "       -1.79559432e+00,  3.47717433e-01, -1.49524014e-01, -1.45422880e+00,\n",
              "        2.95171076e-01,  9.17690405e-01, -1.76824172e-01,  7.40058515e-01,\n",
              "        1.69183027e-02, -1.18422389e-01,  2.47750402e-01, -1.09329396e+00,\n",
              "       -4.43799129e-01,  1.41612141e+00,  6.76640319e-01, -2.54920389e-01,\n",
              "       -1.70738795e+00,  7.70627567e-01, -6.20270086e-01, -1.41574103e+00,\n",
              "       -1.11503759e+00,  6.04655540e-02,  6.71782962e-02, -1.35701628e+00,\n",
              "        3.76573439e-01, -1.56794892e+00, -7.82711816e-01,  1.33464907e+00,\n",
              "       -1.06651172e+00,  1.33134974e-01, -3.91726695e-01,  6.03459979e-01,\n",
              "       -5.26779155e-01, -2.10451306e+00, -8.25235434e-01,  1.04014075e+00,\n",
              "        6.66420260e-01, -1.70938509e+00,  3.79435321e-02,  1.12817858e+00,\n",
              "        1.57391286e+00, -2.74593453e-01,  3.49578809e-01, -2.46616980e-02,\n",
              "       -1.16817646e+00, -8.19164026e-01,  4.71574867e-01, -1.52985467e+00,\n",
              "        6.41616517e-01, -1.17475026e+00, -1.04271809e+00, -1.41647674e+00,\n",
              "        5.51696710e-01, -3.72931869e-01, -5.36560934e-01, -1.35789502e+00,\n",
              "       -6.95415146e-01,  4.31930830e-02, -1.27639596e+00,  9.11157432e-01,\n",
              "       -5.03179247e-01, -8.54767135e-01, -1.10413676e+00, -4.75991642e-01,\n",
              "       -5.38958266e-01,  1.22684635e+00,  7.44482307e-02, -9.38706503e-01,\n",
              "        1.25002853e+00, -8.87940934e-01,  1.43228996e+00,  3.71355383e-01,\n",
              "       -1.62602472e-01,  1.98618816e+00,  5.02920985e-01,  9.36884938e-01,\n",
              "       -1.37828175e+00, -5.50442807e-01, -4.08178810e-01, -7.73236844e-01,\n",
              "       -2.86579783e-02, -8.68046390e-01,  1.53310208e+00, -7.88469015e-02,\n",
              "       -1.05722375e+00,  1.25514923e+00, -4.60605806e-01,  1.62483547e-01,\n",
              "       -1.42360341e+00,  1.08121588e-01,  3.22713769e-01, -8.50681787e-01,\n",
              "        2.74675452e-01, -3.66551537e-01, -1.21413664e+00, -1.27986452e-01,\n",
              "       -1.67653665e+00,  1.30923287e+00, -2.31992669e-01,  8.59309235e-02,\n",
              "        6.03478570e-01, -3.96149617e-01,  4.21414691e-01,  2.14020397e+00,\n",
              "       -5.69142039e-01, -1.92927423e-01, -6.89451222e-01, -5.81411752e-01,\n",
              "       -1.47339508e+00, -4.66226161e-01, -2.29399094e+00,  6.92696486e-01,\n",
              "        9.03884195e-02,  2.01478469e+00,  2.74541197e-01, -4.99948790e-01,\n",
              "       -1.67172581e+00,  1.25620380e+00,  1.17281866e-01,  3.14734305e-01,\n",
              "       -4.50998992e-01, -1.54065403e-01,  4.30199674e-01,  3.95659863e-01,\n",
              "       -1.62618368e+00, -1.48782304e+00, -1.52278680e+00,  1.46240627e+00,\n",
              "       -6.85215318e-01,  7.48503358e-01, -1.34883327e-01,  8.69509687e-01,\n",
              "        1.37914844e+00, -2.50242948e+00,  1.95643775e-01, -2.80402795e+00,\n",
              "        7.27397543e-01,  1.68087642e-01, -1.93618373e-01,  1.38614018e+00,\n",
              "       -9.49162907e-01, -6.42993264e-01,  6.30714555e-02,  1.48462220e-01,\n",
              "        5.32725368e-01,  1.93970619e-01, -8.81820066e-02,  3.12954210e-01,\n",
              "       -5.53951362e-01,  6.97291543e-02,  2.32969994e-02,  3.79887684e-01,\n",
              "        1.78680340e+00, -5.84108711e-01,  7.09742881e-01,  1.91910107e-01,\n",
              "       -4.32715923e-01, -1.28635661e+00, -4.30962707e-01, -1.14833181e+00,\n",
              "       -1.02317922e+00,  2.36008463e-01, -3.85784997e-01, -5.67929870e-01,\n",
              "       -4.19087760e-01,  3.18165927e-01,  1.16274184e+00,  7.94304098e-01,\n",
              "        8.82309306e-03, -2.40048836e-01, -6.86324509e-01, -1.26242514e+00,\n",
              "        1.66307711e+00,  1.56374122e+00, -1.78566718e-01, -9.71906061e-01,\n",
              "        2.19166932e+00,  9.49339479e-01, -2.13610686e-01, -2.13359551e+00,\n",
              "       -2.64301896e-01, -2.68241252e-01,  5.20888675e-01, -1.37414638e-01,\n",
              "       -5.40373407e-01,  8.64798418e-01,  8.62447299e-01, -6.50678315e-01,\n",
              "        5.62196080e-01, -1.88381708e+00,  1.01316838e+00, -6.15743830e-01,\n",
              "       -3.66019896e-01, -6.10038262e-01, -8.77153837e-01,  3.27926603e-01,\n",
              "       -7.40946950e-01, -7.24442731e-01, -2.28865812e-01, -1.76689619e-01,\n",
              "       -1.63525972e+00,  2.19623735e+00,  8.72359174e-01,  1.78900624e+00,\n",
              "       -9.79058596e-01,  1.77551140e+00, -8.02707466e-01,  6.08683701e-01,\n",
              "       -2.25526652e+00, -2.33825000e-01,  1.19603989e+00,  1.14931530e+00,\n",
              "       -6.79008646e-01,  7.00463092e-02,  2.90832480e+00,  9.91741393e-01,\n",
              "        2.34541123e-01,  3.42543916e-01,  6.26441301e-01,  4.02708820e-01,\n",
              "       -1.25542970e+00, -1.34735531e+00,  2.01950963e+00, -1.25171169e+00,\n",
              "        3.74874129e-01, -8.21267826e-01, -1.44810120e-01,  9.53078688e-01,\n",
              "       -4.66314788e-01, -1.24475607e+00, -7.80277205e-01, -9.86955728e-01,\n",
              "       -8.35278010e-02, -1.31007421e-01,  1.44273064e-01,  2.23986128e-01,\n",
              "       -2.22623790e+00, -2.54394233e-01,  9.20808204e-01,  1.29921944e+00,\n",
              "        1.02898652e+00,  8.06932631e-02,  1.46443693e+00, -1.02569075e+00,\n",
              "       -1.29042363e+00, -1.20690678e+00,  8.07645544e-01, -2.32439652e+00,\n",
              "        7.62938695e-01, -2.21710024e+00,  2.35656902e+00,  1.10420944e+00,\n",
              "        1.64547823e+00,  1.49243498e+00,  4.55810765e-01,  1.63920626e+00,\n",
              "       -1.04936875e-01, -6.42093793e-01, -1.78600353e-01, -7.83348149e-01,\n",
              "        8.56926500e-01,  2.05088017e-01, -5.41123922e-01,  1.96818371e-01,\n",
              "       -1.41118136e+00, -1.66466692e+00,  8.89496357e-02,  1.44185023e+00,\n",
              "        1.06497488e+00,  1.76178495e+00, -3.24455523e-01,  1.61843360e+00,\n",
              "        1.30782993e+00, -2.37620015e+00, -5.60367001e-02, -3.68773172e-02,\n",
              "        1.31563848e+00,  1.45526298e-01, -1.99805626e+00,  2.57769845e-01,\n",
              "        1.91197650e-01, -1.24532304e+00, -1.60050801e+00, -1.36344234e+00,\n",
              "        1.43960779e+00,  1.05564067e-01,  1.69972706e-01,  1.38169265e+00,\n",
              "        1.05188391e+00, -3.48829223e-01, -7.41836231e-01, -3.29776098e-01,\n",
              "       -4.41175012e-01, -4.25745996e-01,  1.55421862e-02, -1.14006943e+00,\n",
              "       -6.51850817e-01, -4.39716494e-01, -1.36399417e+00, -2.11282738e-01,\n",
              "       -1.48833639e-01, -1.59829821e+00,  1.45991748e-02,  2.74890695e-01,\n",
              "        8.37560612e-01, -1.11606281e+00, -1.67328851e-01, -5.92570849e-01,\n",
              "        2.44929710e-01,  1.64064775e+00, -2.22627248e+00,  8.11960312e-01,\n",
              "       -2.30386697e-01,  1.63642728e+00, -3.20796552e-01, -7.88946561e-01,\n",
              "       -4.07051201e-01,  2.32883439e-01,  1.17670798e-01,  2.39028290e-01,\n",
              "        6.14499855e-01,  4.91994801e-01,  1.06846283e+00, -1.35776344e-01,\n",
              "        3.23548993e-01,  8.43139555e-01,  2.58160393e-01,  1.24877459e+00,\n",
              "        3.95456534e-01, -1.53713859e+00, -7.09257330e-01,  4.13479846e-02,\n",
              "        6.88680772e-01,  1.50256215e-01, -6.47609594e-01, -5.15384630e-01,\n",
              "       -9.80924722e-01,  1.29548279e-01,  7.62035112e-01, -7.30002799e-01,\n",
              "       -2.31649421e+00,  2.38292032e-01,  5.59740324e-02,  2.36660904e-01,\n",
              "        2.34521768e+00,  1.88985244e+00,  7.41270176e-01, -8.92180353e-01,\n",
              "       -4.91950718e-01, -1.15976203e+00, -9.93511520e-01, -1.22370688e+00,\n",
              "        8.71719811e-01, -3.67764766e-01, -9.70625474e-02,  3.51719917e-01,\n",
              "        7.06352815e-01, -1.66195445e+00, -3.83098898e-01, -1.23323948e-01,\n",
              "       -1.12801048e+00, -1.19151308e+00, -1.56637223e+00,  5.08155490e-01,\n",
              "        5.59120627e-01,  1.07287522e-01,  1.08918528e+00,  6.02366052e-01,\n",
              "       -1.79378807e-02,  1.34960874e+00,  1.63711543e+00, -8.27594747e-01,\n",
              "        5.10708680e-01, -9.76804325e-01,  2.35230302e-01, -1.40976615e+00,\n",
              "        3.25279591e-01, -1.57739595e+00,  2.34462906e-01,  5.23663518e-01,\n",
              "        5.66902318e-02,  1.00197638e-01,  4.70427196e-01, -2.34874460e-01,\n",
              "       -6.28939483e-01, -1.16229849e+00,  1.34085659e+00,  2.54665083e-02,\n",
              "       -5.30996698e-01, -2.55377154e-01,  1.61128827e-01, -9.17610547e-01,\n",
              "       -1.60966861e+00, -9.26126469e-01,  5.94944552e-01, -2.39803131e-01,\n",
              "       -2.24933047e-01, -6.53005600e-01,  5.02378804e-01,  4.58639838e-01,\n",
              "       -2.10683399e+00, -1.65439549e+00,  3.22190447e-01, -1.16637592e+00,\n",
              "       -7.87588195e-01, -8.88642091e-02, -9.51621482e-01, -1.88026900e+00,\n",
              "       -8.22792142e-01,  3.87224039e-01, -3.95937620e-01,  7.70649426e-01,\n",
              "        9.97091665e-01, -1.33447372e+00,  3.48199368e-02,  3.57479637e-01,\n",
              "        1.50276752e+00, -1.56938172e-01,  4.49299881e-01,  1.06409797e+00,\n",
              "       -1.09160830e-01,  1.30561559e+00, -8.02172736e-01,  6.34041491e-01,\n",
              "       -2.48158894e+00, -1.93939710e+00,  6.69825019e-01,  9.66134095e-01,\n",
              "       -7.47336158e-01, -9.54164507e-01,  1.72737612e+00,  5.53554164e-01,\n",
              "        2.42805654e-01,  6.88295457e-01, -6.79167552e-01,  1.66756010e+00,\n",
              "       -5.57952122e-01, -1.68243099e-01,  4.54853314e-01, -4.37726541e-01,\n",
              "       -9.24064228e-01,  1.65345550e+00,  1.28171396e-01, -1.11051145e+00,\n",
              "        2.92142104e-01,  9.93872186e-01, -2.39550949e-02, -4.10837776e-01,\n",
              "        1.76224556e+00, -5.17997227e-01, -1.08903778e+00,  1.26959830e-01,\n",
              "       -1.07007939e+00,  3.76855624e-01,  3.74511045e-01, -2.00078784e-01,\n",
              "        6.30118593e-01,  1.37628311e+00,  1.39828865e+00, -1.23204987e+00,\n",
              "        2.30112044e-01, -1.23536383e+00,  1.18346776e+00, -1.35479415e+00,\n",
              "       -7.02321483e-01,  1.45893441e+00, -7.55813295e-01, -1.62732142e+00,\n",
              "        7.76483677e-01, -5.35767423e-01,  1.60363756e+00,  2.07850299e-01,\n",
              "       -4.97015459e-01,  4.90838653e-01,  2.37367857e-01,  5.86011106e-01,\n",
              "        2.91870956e-02, -3.87266929e-01, -1.86709564e+00, -1.20546484e+00,\n",
              "       -1.69441359e-01,  6.93298153e-01, -4.29305668e-02,  3.41946061e-01,\n",
              "        1.24269944e+00,  2.52412961e-01, -2.77601588e-02,  1.28945163e+00,\n",
              "       -9.32103101e-02,  5.90301851e-01,  2.25280788e-01, -4.08420154e-01,\n",
              "        1.33104780e-01, -3.37232615e-01, -2.55905620e-02,  4.91664032e-01,\n",
              "        1.05313225e-01, -2.72135652e+00, -3.17321642e-01, -1.48073548e+00,\n",
              "       -3.80680422e-01,  9.32768916e-01,  5.01782749e-01, -1.36371987e+00,\n",
              "        1.14164722e+00, -2.54307151e+00,  5.07090698e-01, -1.58431214e-01,\n",
              "        4.48655941e-01, -1.18620237e+00,  1.43070815e+00,  5.20859409e-01,\n",
              "        8.59817585e-01, -1.11502458e+00,  1.19643197e+00,  7.85502868e-01,\n",
              "       -4.79348829e-01, -7.09464573e-01,  1.58431577e-01, -1.28595655e-01,\n",
              "       -5.84691653e-01,  1.04210516e+00, -4.54154341e-01, -8.48620731e-01,\n",
              "        6.49654260e-01, -5.33167340e-01, -1.80385958e-01, -9.75808629e-01,\n",
              "       -4.54201858e-01,  2.27212230e-01, -8.90088700e-01,  1.64769420e+00,\n",
              "        5.14951019e-01,  1.53319245e-01, -7.10790568e-01,  1.07812207e+00,\n",
              "        1.18463478e+00, -8.05214477e-01,  7.39923334e-01,  1.16115195e+00,\n",
              "        1.25700301e+00,  1.03051561e+00,  1.19763825e-03, -1.32689647e-01,\n",
              "       -1.36400953e+00, -8.32569622e-01, -3.06210333e-01, -1.03543080e+00,\n",
              "       -1.07826012e+00,  2.62570519e-01, -9.90188312e-01,  2.21458432e-01,\n",
              "        8.90824641e-01,  8.91213159e-01,  2.00093984e-01,  6.64999158e-02,\n",
              "        1.04235209e+00, -5.04737294e-01,  7.71202565e-01, -6.10237889e-02,\n",
              "       -4.35652931e-01, -1.04720679e+00, -8.06373226e-01,  5.01707406e-01,\n",
              "        1.47077081e+00, -2.92035896e-01,  5.63953188e-01, -5.69166560e-01,\n",
              "        5.77085943e-02,  8.19378593e-01, -6.55532047e-01,  5.06047352e-01,\n",
              "       -6.98069393e-01, -5.93982968e-01,  9.05045119e-02,  1.09305104e+00,\n",
              "        8.48181766e-02, -8.24495000e-01, -1.59644620e+00, -7.69637799e-01,\n",
              "        1.72654961e+00,  1.08750397e+00,  1.69571606e+00, -1.16637627e-01,\n",
              "       -1.21467630e+00, -4.39777959e-01, -1.74885107e+00, -1.29351102e+00,\n",
              "       -1.13483250e+00, -1.33764997e+00, -2.00041490e-01, -3.52509802e-01,\n",
              "        5.46976837e-01,  1.58313502e+00,  2.43323153e+00, -6.60065418e-01])"
            ]
          },
          "metadata": {},
          "execution_count": 61
        }
      ]
    },
    {
      "cell_type": "code",
      "source": [
        "# Usando histograma\n",
        "plt.hist(dados, bins=20)"
      ],
      "metadata": {
        "colab": {
          "base_uri": "https://localhost:8080/",
          "height": 569
        },
        "id": "uXPIATh-MqVz",
        "outputId": "06588324-9097-4147-8481-16fdab82ed92"
      },
      "execution_count": null,
      "outputs": [
        {
          "output_type": "execute_result",
          "data": {
            "text/plain": [
              "(array([  1.,   2.,   6.,  13.,  17.,  44.,  63.,  81., 100., 118., 127.,\n",
              "        121.,  91.,  77.,  53.,  47.,  22.,   8.,   6.,   3.]),\n",
              " array([-3.25354318, -2.94424624, -2.63494929, -2.32565234, -2.0163554 ,\n",
              "        -1.70705845, -1.3977615 , -1.08846456, -0.77916761, -0.46987066,\n",
              "        -0.16057372,  0.14872323,  0.45802018,  0.76731712,  1.07661407,\n",
              "         1.38591102,  1.69520796,  2.00450491,  2.31380186,  2.6230988 ,\n",
              "         2.93239575]),\n",
              " <BarContainer object of 20 artists>)"
            ]
          },
          "metadata": {},
          "execution_count": 62
        },
        {
          "output_type": "display_data",
          "data": {
            "text/plain": [
              "<Figure size 640x480 with 1 Axes>"
            ],
            "image/png": "[encoded data removed]"
          },
          "metadata": {}
        }
      ]
    },
    {
      "cell_type": "code",
      "source": [
        "# Usando qqplot\n",
        "fig, ax = plt.subplots()\n",
        "stats.probplot(dados, fit=True, plot =ax)\n",
        "plt.show()"
      ],
      "metadata": {
        "colab": {
          "base_uri": "https://localhost:8080/",
          "height": 472
        },
        "id": "eUiAbrU8MytT",
        "outputId": "72f2211f-5128-448d-cdc2-ab742113497d"
      },
      "execution_count": null,
      "outputs": [
        {
          "output_type": "display_data",
          "data": {
            "text/plain": [
              "<Figure size 640x480 with 1 Axes>"
            ],
            "image/png": "[encoded data removed]"
          },
          "metadata": {}
        }
      ]
    },
    {
      "cell_type": "code",
      "source": [
        "# Teste de shapiro\n",
        "stats.shapiro(dados)"
      ],
      "metadata": {
        "colab": {
          "base_uri": "https://localhost:8080/"
        },
        "id": "x-NKJ7FxNHhs",
        "outputId": "55318f6b-dd00-4b20-f1dc-4cfbd60ff42c"
      },
      "execution_count": null,
      "outputs": [
        {
          "output_type": "execute_result",
          "data": {
            "text/plain": [
              "ShapiroResult(statistic=0.998978316783905, pvalue=0.8617770671844482)"
            ]
          },
          "metadata": {},
          "execution_count": 64
        }
      ]
    },
    {
      "cell_type": "markdown",
      "source": [
        "Como p > 0.05, então não pode se rejeitar"
      ],
      "metadata": {
        "id": "t0VnKomSNVf_"
      }
    },
    {
      "cell_type": "markdown",
      "source": [
        "**Agora com dados não normais**"
      ],
      "metadata": {
        "id": "vCCpZlsuNjAs"
      }
    },
    {
      "cell_type": "code",
      "source": [
        "dados2 = skewnorm.rvs(4, size=100)"
      ],
      "metadata": {
        "id": "IT9waD7KNM0l"
      },
      "execution_count": null,
      "outputs": []
    },
    {
      "cell_type": "code",
      "source": [
        "plt.hist(dados2, bins = 20)"
      ],
      "metadata": {
        "colab": {
          "base_uri": "https://localhost:8080/",
          "height": 569
        },
        "id": "5LUzWBP9Neqb",
        "outputId": "34195cdb-1642-44bb-d2a1-2c0dfc471176"
      },
      "execution_count": null,
      "outputs": [
        {
          "output_type": "execute_result",
          "data": {
            "text/plain": [
              "(array([ 4., 10., 13.,  6.,  9., 10.,  9.,  7.,  8.,  5.,  4.,  3.,  1.,\n",
              "         2.,  4.,  1.,  2.,  1.,  0.,  1.]),\n",
              " array([-0.13430918,  0.00950197,  0.15331312,  0.29712427,  0.44093542,\n",
              "         0.58474657,  0.72855772,  0.87236887,  1.01618003,  1.15999118,\n",
              "         1.30380233,  1.44761348,  1.59142463,  1.73523578,  1.87904693,\n",
              "         2.02285808,  2.16666923,  2.31048038,  2.45429153,  2.59810268,\n",
              "         2.74191383]),\n",
              " <BarContainer object of 20 artists>)"
            ]
          },
          "metadata": {},
          "execution_count": 66
        },
        {
          "output_type": "display_data",
          "data": {
            "text/plain": [
              "<Figure size 640x480 with 1 Axes>"
            ],
            "image/png": "[encoded data removed]"
          },
          "metadata": {}
        }
      ]
    },
    {
      "cell_type": "code",
      "source": [
        "fig, ax = plt.subplots()\n",
        "stats.probplot(dados2, fit=True, plot =ax)\n",
        "plt.show()"
      ],
      "metadata": {
        "colab": {
          "base_uri": "https://localhost:8080/",
          "height": 472
        },
        "id": "gtc7M7WDNtUq",
        "outputId": "24aca9c2-64e3-4a12-d8df-ed504c60b6d7"
      },
      "execution_count": null,
      "outputs": [
        {
          "output_type": "display_data",
          "data": {
            "text/plain": [
              "<Figure size 640x480 with 1 Axes>"
            ],
            "image/png": "[encoded data removed]"
          },
          "metadata": {}
        }
      ]
    },
    {
      "cell_type": "code",
      "source": [
        "stats.shapiro(dados2)"
      ],
      "metadata": {
        "colab": {
          "base_uri": "https://localhost:8080/"
        },
        "id": "gBrYD-9-NyPv",
        "outputId": "8998070b-32b7-4f73-871e-1960f7da794d"
      },
      "execution_count": null,
      "outputs": [
        {
          "output_type": "execute_result",
          "data": {
            "text/plain": [
              "ShapiroResult(statistic=0.9374693036079407, pvalue=0.0001355765271000564)"
            ]
          },
          "metadata": {},
          "execution_count": 69
        }
      ]
    },
    {
      "cell_type": "markdown",
      "source": [
        "Como p é bem menor que 0.05, podemos rejeitar"
      ],
      "metadata": {
        "id": "CDbGRo4fN2lh"
      }
    }
  ]
}